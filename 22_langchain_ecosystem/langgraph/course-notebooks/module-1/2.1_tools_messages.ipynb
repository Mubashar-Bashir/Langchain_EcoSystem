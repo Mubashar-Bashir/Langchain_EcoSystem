{
  "cells": [
    {
      "cell_type": "markdown",
      "metadata": {
        "id": "view-in-github",
        "colab_type": "text"
      },
      "source": [
        "<a href=\"https://colab.research.google.com/github/Mubashar-Bashir/Langchain_EcoSystem/blob/main/22_langchain_ecosystem/langgraph/course-notebooks/module-1/2.1_tools_messages.ipynb\" target=\"_parent\"><img src=\"https://colab.research.google.com/assets/colab-badge.svg\" alt=\"Open In Colab\"/></a>"
      ]
    },
    {
      "cell_type": "markdown",
      "metadata": {
        "id": "599Tikcqoqo6"
      },
      "source": [
        "# LLM Actions and Structure Messages\n",
        "\n",
        "## Review\n",
        "\n",
        "We built a simple graph with nodes, normal edges, and conditional edges.\n",
        "\n",
        "## Goals\n",
        "\n",
        "Now, let's understand the power of Actions with AI Models and before that structure our prompts."
      ]
    },
    {
      "cell_type": "markdown",
      "metadata": {
        "id": "zWWWMiPuoqo_"
      },
      "source": [
        "## Messages\n",
        "\n",
        "Chat models can use [`messages`](https://python.langchain.com/v0.2/docs/concepts/#messages), which capture different roles within a conversation.\n",
        "\n",
        "LangChain supports various message types, including `HumanMessage`, `AIMessage`, `SystemMessage`, and `ToolMessage`.\n",
        "\n",
        "These represent a message from the user, from chat model, for the chat model to instruct behavior, and from a tool call.\n",
        "\n",
        "Let's create a list of messages.\n",
        "\n",
        "Each message can be supplied with a few things:\n",
        "\n",
        "* `content` - content of the message\n",
        "* `name` - optionally, a message author\n",
        "* `response_metadata` - optionally, a dict of metadata (e.g., often populated by model provider for `AIMessages`)"
      ]
    },
    {
      "cell_type": "code",
      "source": [
        "%pip install -q U langchain\n",
        "%pip install -q U langchain-google-genai"
      ],
      "metadata": {
        "id": "6UXH7wZgo1Bb"
      },
      "execution_count": 3,
      "outputs": []
    },
    {
      "cell_type": "code",
      "execution_count": 5,
      "metadata": {
        "id": "qo5qP8VLoqpA",
        "outputId": "804e3533-0e42-45ff-8412-da457af91dd0",
        "colab": {
          "base_uri": "https://localhost:8080/"
        }
      },
      "outputs": [
        {
          "output_type": "stream",
          "name": "stdout",
          "text": [
            "==================================\u001b[1m Ai Message \u001b[0m==================================\n",
            "Name: Model\n",
            "\n",
            "So you said you were researching on Langchain\n",
            "================================\u001b[1m Human Message \u001b[0m=================================\n",
            "Name: Lance\n",
            "\n",
            "Yes, that's right LangChain using Langcahin_core.messages\n",
            "==================================\u001b[1m Ai Message \u001b[0m==================================\n",
            "Name: Model\n",
            "\n",
            "Great, what would you like to learn about.\n",
            "================================\u001b[1m Human Message \u001b[0m=================================\n",
            "Name: Lance\n",
            "\n",
            "I want to learn about the best practice to use these messages in list.\n"
          ]
        }
      ],
      "source": [
        "from pprint import pprint\n",
        "from langchain_core.messages import AIMessage, HumanMessage, SystemMessage\n",
        "\n",
        "messages = [AIMessage(content=f\"So you said you were researching on Langchain\", name=\"Model\")]\n",
        "messages.append(HumanMessage(content=f\"Yes, that's right LangChain using Langcahin_core.messages\",name=\"Lance\"))\n",
        "messages.append(AIMessage(content=f\"Great, what would you like to learn about.\", name=\"Model\"))\n",
        "messages.append(HumanMessage(content=f\"I want to learn about the best practice to use these messages in list.\", name=\"Lance\"))\n",
        "\n",
        "for m in messages:\n",
        "    m.pretty_print()"
      ]
    },
    {
      "cell_type": "markdown",
      "metadata": {
        "id": "ryNuUg8roqpD"
      },
      "source": [
        "From now let's use HumanMessage to pass our Prompt to Model"
      ]
    },
    {
      "cell_type": "code",
      "execution_count": 6,
      "metadata": {
        "id": "TTJRNmB-oqpD"
      },
      "outputs": [],
      "source": [
        "from google.colab import userdata\n",
        "gemini_api_key = userdata.get('Gemini-key')\n"
      ]
    },
    {
      "cell_type": "code",
      "execution_count": 7,
      "metadata": {
        "id": "97a0ABahoqpE"
      },
      "outputs": [],
      "source": [
        "%pip install --quiet -U langchain-google-genai"
      ]
    },
    {
      "cell_type": "code",
      "execution_count": 8,
      "metadata": {
        "id": "J9i4QDEwoqpE"
      },
      "outputs": [],
      "source": [
        "from langchain_google_genai import ChatGoogleGenerativeAI\n",
        "\n",
        "llm: ChatGoogleGenerativeAI = ChatGoogleGenerativeAI(model=\"gemini-1.5-flash\", api_key=gemini_api_key)"
      ]
    },
    {
      "cell_type": "code",
      "execution_count": 9,
      "metadata": {
        "id": "2nTDliUkoqpF",
        "outputId": "10c8cee1-ef11-4986-ccfe-b6a08e262c17",
        "colab": {
          "base_uri": "https://localhost:8080/"
        }
      },
      "outputs": [
        {
          "output_type": "stream",
          "name": "stdout",
          "text": [
            "content='Hi! How can I help you today? \\n' additional_kwargs={} response_metadata={'prompt_feedback': {'block_reason': 0, 'safety_ratings': []}, 'finish_reason': 'STOP', 'safety_ratings': [{'category': 'HARM_CATEGORY_SEXUALLY_EXPLICIT', 'probability': 'NEGLIGIBLE', 'blocked': False}, {'category': 'HARM_CATEGORY_HATE_SPEECH', 'probability': 'NEGLIGIBLE', 'blocked': False}, {'category': 'HARM_CATEGORY_HARASSMENT', 'probability': 'NEGLIGIBLE', 'blocked': False}, {'category': 'HARM_CATEGORY_DANGEROUS_CONTENT', 'probability': 'NEGLIGIBLE', 'blocked': False}]} id='run-9b231f4b-e63f-4b97-9d91-896be14a3e49-0' usage_metadata={'input_tokens': 2, 'output_tokens': 10, 'total_tokens': 12}\n"
          ]
        }
      ],
      "source": [
        "simple_call = llm.invoke(\"Hi\")\n",
        "print(simple_call)"
      ]
    },
    {
      "cell_type": "code",
      "execution_count": 17,
      "metadata": {
        "id": "y1QdCd-soqpF",
        "outputId": "2c6a81a2-a774-407e-bc86-fa13135e3c6a",
        "colab": {
          "base_uri": "https://localhost:8080/"
        }
      },
      "outputs": [
        {
          "output_type": "stream",
          "name": "stdout",
          "text": [
            "AIMessage(content=\"I am a large language model, so I don't have a name in the traditional sense. You can call me Bard, or anything you like! \\n\", additional_kwargs={}, response_metadata={'prompt_feedback': {'block_reason': 0, 'safety_ratings': []}, 'finish_reason': 'STOP', 'safety_ratings': [{'category': 'HARM_CATEGORY_SEXUALLY_EXPLICIT', 'probability': 'NEGLIGIBLE', 'blocked': False}, {'category': 'HARM_CATEGORY_HATE_SPEECH', 'probability': 'NEGLIGIBLE', 'blocked': False}, {'category': 'HARM_CATEGORY_HARASSMENT', 'probability': 'NEGLIGIBLE', 'blocked': False}, {'category': 'HARM_CATEGORY_DANGEROUS_CONTENT', 'probability': 'NEGLIGIBLE', 'blocked': False}]}, id='run-ec427c1f-fdca-4ea9-a632-abc88db4213b-0', usage_metadata={'input_tokens': 6, 'output_tokens': 31, 'total_tokens': 37})\n"
          ]
        }
      ],
      "source": [
        "messages = [HumanMessage(content=\"What is your name?\")]\n",
        "result = llm.invoke(messages)\n",
        "pprint(result)"
      ]
    },
    {
      "cell_type": "code",
      "execution_count": 18,
      "metadata": {
        "id": "s0Evc6CgoqpG",
        "outputId": "694994f1-422f-42b4-d32c-b5923c1d6c15",
        "colab": {
          "base_uri": "https://localhost:8080/"
        }
      },
      "outputs": [
        {
          "output_type": "stream",
          "name": "stdout",
          "text": [
            "AIMessage(content='Hi there! My name is Bob. 😊  What can I do for you today? \\n', additional_kwargs={}, response_metadata={'prompt_feedback': {'block_reason': 0, 'safety_ratings': []}, 'finish_reason': 'STOP', 'safety_ratings': [{'category': 'HARM_CATEGORY_SEXUALLY_EXPLICIT', 'probability': 'NEGLIGIBLE', 'blocked': False}, {'category': 'HARM_CATEGORY_HATE_SPEECH', 'probability': 'NEGLIGIBLE', 'blocked': False}, {'category': 'HARM_CATEGORY_HARASSMENT', 'probability': 'NEGLIGIBLE', 'blocked': False}, {'category': 'HARM_CATEGORY_DANGEROUS_CONTENT', 'probability': 'NEGLIGIBLE', 'blocked': False}]}, id='run-76b73b70-f9b0-479d-a53f-51325e45a90b-0', usage_metadata={'input_tokens': 17, 'output_tokens': 18, 'total_tokens': 35})\n"
          ]
        }
      ],
      "source": [
        "system_human_message = [\n",
        "                SystemMessage(content=\"You are a helpful assistant! Your name is Bob.\"),\n",
        "                HumanMessage(content=\"What is your name?\")\n",
        "            ]\n",
        "result = llm.invoke(system_human_message)\n",
        "pprint(result)\n",
        "\n",
        ""
      ]
    },
    {
      "cell_type": "code",
      "execution_count": 19,
      "metadata": {
        "id": "FUhbXHYXoqpG",
        "outputId": "f7e99acb-f637-4a7c-d2cf-50fe79e4c60f",
        "colab": {
          "base_uri": "https://localhost:8080/"
        }
      },
      "outputs": [
        {
          "output_type": "stream",
          "name": "stdout",
          "text": [
            "(\"I am a large language model, so I don't have a name. You can call me Bard, \"\n",
            " 'or anything else you like! \\n')\n"
          ]
        }
      ],
      "source": [
        "context_call = llm.invoke(messages)\n",
        "pprint(context_call.content)"
      ]
    },
    {
      "cell_type": "markdown",
      "metadata": {
        "id": "2nzEo6VFoqpH"
      },
      "source": [
        "## Tools\n",
        "\n",
        "Tools are useful whenever you want a model to interact with external systems.\n",
        "\n",
        "External systems (e.g., APIs) often require a particular input schema or payload, rather than natural language.\n",
        "\n",
        "When we bind an API, for example, as a tool we given the model awareness of the required input schema.\n",
        "\n",
        "The model will choose to call a tool based upon the natural language input from the user.\n",
        "\n",
        "And, it will return an output that adheres to the tool's schema.\n",
        "\n",
        "[Many LLM providers support tool calling](https://python.langchain.com/v0.1/docs/integrations/chat/) and [tool calling interface](https://blog.langchain.dev/improving-core-tool-interfaces-and-docs-in-langchain/) in LangChain is simple.\n",
        "\n",
        "You can simply pass any Python `function` into `ChatModel.bind_tools(function)`.\n",
        "\n",
        "![Screenshot 2024-08-19 at 7.46.28 PM.png](https://cdn.prod.website-files.com/65b8cd72835ceeacd4449a53/66dbab08dc1c17a7a57f9960_chain2.png)"
      ]
    },
    {
      "cell_type": "code",
      "execution_count": 20,
      "metadata": {
        "id": "k0zSnHU4Kt82"
      },
      "outputs": [],
      "source": [
        "%%capture --no-stderr\n",
        "%pip install --quiet -U langchain-google-genai langchain_core langgraph"
      ]
    },
    {
      "cell_type": "code",
      "execution_count": null,
      "metadata": {
        "id": "yQ7JAd3hKx7H"
      },
      "outputs": [],
      "source": [
        "from google.colab import userdata\n",
        "gemini_api_key = userdata.get('GEMINI_API_KEY')\n"
      ]
    },
    {
      "cell_type": "code",
      "execution_count": null,
      "metadata": {
        "id": "wrQIRNgeKzAX"
      },
      "outputs": [],
      "source": [
        "from langchain_google_genai import ChatGoogleGenerativeAI\n",
        "\n",
        "llm: ChatGoogleGenerativeAI = ChatGoogleGenerativeAI(model=\"gemini-1.5-flash\", api_key=gemini_api_key)"
      ]
    },
    {
      "cell_type": "markdown",
      "metadata": {
        "id": "n-MwHYPdNGDm"
      },
      "source": [
        "## Tool Calling"
      ]
    },
    {
      "cell_type": "code",
      "execution_count": 21,
      "metadata": {
        "colab": {
          "base_uri": "https://localhost:8080/"
        },
        "id": "aaY-4l3pK5Kt",
        "outputId": "ea115d64-cfc6-4299-881e-573ae55305ea"
      },
      "outputs": [
        {
          "output_type": "stream",
          "name": "stdout",
          "text": [
            "\n",
            "\n",
            "llm\n",
            " model='models/gemini-1.5-flash' google_api_key=SecretStr('**********') client=<google.ai.generativelanguage_v1beta.services.generative_service.client.GenerativeServiceClient object at 0x7c8248b96050> default_metadata=() \n",
            "\n",
            "\n",
            "\n"
          ]
        }
      ],
      "source": [
        "print(\"\\n\\nllm\\n\", llm, \"\\n\\n\\n\")"
      ]
    },
    {
      "cell_type": "code",
      "execution_count": 22,
      "metadata": {
        "id": "V8CPSMndK1ie"
      },
      "outputs": [],
      "source": [
        "def deposit_money(name: str, bank_account_no: int) -> int:\n",
        "    \"\"\"Deposit Money in Bank account.\n",
        "\n",
        "    Args:\n",
        "        name: first str\n",
        "        bank_account_no: second int\n",
        "    \"\"\"\n",
        "    # BUSINESS LOGIC for Bank Deposit\n",
        "    # ......\n",
        "    return {\"status\": f\"Deposit Successfule in {name} Account {bank_account_no}\"}"
      ]
    },
    {
      "cell_type": "code",
      "execution_count": 23,
      "metadata": {
        "colab": {
          "base_uri": "https://localhost:8080/"
        },
        "id": "6A3-xLJ6L5eI",
        "outputId": "90f60998-44ff-4828-b31a-3ce82241290d"
      },
      "outputs": [
        {
          "output_type": "stream",
          "name": "stderr",
          "text": [
            "WARNING:langchain_google_genai._function_utils:Key 'title' is not supported in schema, ignoring\n",
            "WARNING:langchain_google_genai._function_utils:Key 'title' is not supported in schema, ignoring\n",
            "WARNING:langchain_google_genai._function_utils:Key 'title' is not supported in schema, ignoring\n"
          ]
        }
      ],
      "source": [
        "llm_with_tools = llm.bind_tools([deposit_money])"
      ]
    },
    {
      "cell_type": "code",
      "source": [
        "\n",
        "# ## Tool Calling\n",
        "print(\"\\n\\nllm\\n\", llm, \"\\n\\n\\n\")\n",
        "def deposit_money(name: str, bank_account_no: int) -> int:\n",
        "    \"\"\"Deposit Money in Bank account.\n",
        "\n",
        "    Args:\n",
        "        name: first str\n",
        "        bank_account_no: second int\n",
        "    \"\"\"\n",
        "    # BUSINESS LOGIC for Bank Deposit\n",
        "    # ......\n",
        "    return {\"status\": f\"Deposit Successfule in {name} Account {bank_account_no}\"}\n",
        "\n",
        "from langchain.tools import tool\n",
        "\n",
        "@tool\n",
        "def deposit_money_tool(name: str, bank_account_no: int) -> int:\n",
        "    \"\"\"Deposit Money in Bank account.\n",
        "\n",
        "    Args:\n",
        "        name: first str\n",
        "        bank_account_no: second int\n",
        "    \"\"\"\n",
        "    # BUSINESS LOGIC for Bank Deposit\n",
        "    # ......\n",
        "    return {\"status\": f\"Deposit Successfule in {name} Account {bank_account_no}\"}\n",
        "\n",
        "llm_with_tools = llm.bind_tools([deposit_money_tool])\n"
      ],
      "metadata": {
        "id": "rRk0ZOP2uacG",
        "outputId": "2a8397c0-b17d-4124-fcf6-32007cff4294",
        "colab": {
          "base_uri": "https://localhost:8080/"
        }
      },
      "execution_count": 24,
      "outputs": [
        {
          "output_type": "stream",
          "name": "stderr",
          "text": [
            "WARNING:langchain_google_genai._function_utils:Key 'title' is not supported in schema, ignoring\n",
            "WARNING:langchain_google_genai._function_utils:Key 'title' is not supported in schema, ignoring\n",
            "WARNING:langchain_google_genai._function_utils:Key 'title' is not supported in schema, ignoring\n"
          ]
        },
        {
          "output_type": "stream",
          "name": "stdout",
          "text": [
            "\n",
            "\n",
            "llm\n",
            " model='models/gemini-1.5-flash' google_api_key=SecretStr('**********') client=<google.ai.generativelanguage_v1beta.services.generative_service.client.GenerativeServiceClient object at 0x7c8248b96050> default_metadata=() \n",
            "\n",
            "\n",
            "\n"
          ]
        }
      ]
    },
    {
      "cell_type": "code",
      "execution_count": 25,
      "metadata": {
        "colab": {
          "base_uri": "https://localhost:8080/"
        },
        "id": "4qLqBwVnL_Lt",
        "outputId": "fd6cca3c-b482-47b6-e078-1b543e52497b"
      },
      "outputs": [
        {
          "output_type": "execute_result",
          "data": {
            "text/plain": [
              "RunnableBinding(bound=ChatGoogleGenerativeAI(model='models/gemini-1.5-flash', google_api_key=SecretStr('**********'), client=<google.ai.generativelanguage_v1beta.services.generative_service.client.GenerativeServiceClient object at 0x7c8248b96050>, default_metadata=()), kwargs={'tools': [{'function_declarations': [{'name': 'deposit_money_tool', 'description': 'Deposit Money in Bank account.\\n\\n    Args:\\n        name: first str\\n        bank_account_no: second int', 'parameters': {'type_': 6, 'description': 'Deposit Money in Bank account.\\n\\nArgs:\\n    name: first str\\n    bank_account_no: second int', 'properties': {'name': {'type_': 1, 'format_': '', 'description': '', 'nullable': False, 'enum': [], 'max_items': '0', 'min_items': '0', 'properties': {}, 'required': []}, 'bank_account_no': {'type_': 3, 'format_': '', 'description': '', 'nullable': False, 'enum': [], 'max_items': '0', 'min_items': '0', 'properties': {}, 'required': []}}, 'required': ['name', 'bank_account_no'], 'format_': '', 'nullable': False, 'enum': [], 'max_items': '0', 'min_items': '0'}}]}], 'tool_config': None}, config={}, config_factories=[])"
            ]
          },
          "metadata": {},
          "execution_count": 25
        }
      ],
      "source": [
        "llm_with_tools"
      ]
    },
    {
      "cell_type": "code",
      "execution_count": 26,
      "metadata": {
        "id": "Zb1gQFn2LGYE"
      },
      "outputs": [],
      "source": [
        "from langchain_core.messages import HumanMessage"
      ]
    },
    {
      "cell_type": "code",
      "execution_count": 27,
      "metadata": {
        "colab": {
          "base_uri": "https://localhost:8080/"
        },
        "id": "QRDkyI9CMMUs",
        "outputId": "d5c8324a-d31e-4311-9e53-73ce54cc3d50"
      },
      "outputs": [
        {
          "output_type": "execute_result",
          "data": {
            "text/plain": [
              "AIMessage(content=\"I understand you want to deposit money into Ahmad's account. However, I can't do that. I'm a language model and don't have access to real-world bank accounts. \\n\\nTo deposit money into Ahmad's account, you'll need to:\\n\\n* **Know the full account number and bank details:** This includes the bank name, branch, and any other necessary information.\\n* **Use a secure method of deposit:** This could be online banking, a mobile app, a bank teller, an ATM, or a wire transfer. \\n\\nPlease note that you should **never share your own or someone else's bank account details with anyone online unless you are on a trusted and secure website or platform**. \\n\\nIf you have further questions, I recommend contacting the bank directly. \\n\", additional_kwargs={}, response_metadata={'prompt_feedback': {'block_reason': 0, 'safety_ratings': []}, 'finish_reason': 'STOP', 'safety_ratings': [{'category': 'HARM_CATEGORY_SEXUALLY_EXPLICIT', 'probability': 'NEGLIGIBLE', 'blocked': False}, {'category': 'HARM_CATEGORY_HATE_SPEECH', 'probability': 'NEGLIGIBLE', 'blocked': False}, {'category': 'HARM_CATEGORY_HARASSMENT', 'probability': 'NEGLIGIBLE', 'blocked': False}, {'category': 'HARM_CATEGORY_DANGEROUS_CONTENT', 'probability': 'NEGLIGIBLE', 'blocked': False}]}, id='run-73bca141-fb58-446d-8437-1258428b6700-0', usage_metadata={'input_tokens': 17, 'output_tokens': 166, 'total_tokens': 183})"
            ]
          },
          "metadata": {},
          "execution_count": 27
        }
      ],
      "source": [
        "call = llm.invoke(\n",
        "    [HumanMessage(content=f\"Deposit Money in Ahmad Account. His acc number is 00123\", name=\"Muhammad\")])\n",
        "call\n"
      ]
    },
    {
      "cell_type": "code",
      "execution_count": 28,
      "metadata": {
        "colab": {
          "base_uri": "https://localhost:8080/"
        },
        "id": "FXfKvapxLAg_",
        "outputId": "3233d9a8-6520-4e0d-b228-6c48e987093d"
      },
      "outputs": [
        {
          "output_type": "stream",
          "name": "stdout",
          "text": [
            "{'name': 'deposit_money_tool', 'description': 'Deposit Money in Bank account.\\n\\n    Args:\\n        name: first str\\n        bank_account_no: second int', 'parameters': {'type_': 6, 'description': 'Deposit Money in Bank account.\\n\\nArgs:\\n    name: first str\\n    bank_account_no: second int', 'properties': {'name': {'type_': 1, 'format_': '', 'description': '', 'nullable': False, 'enum': [], 'max_items': '0', 'min_items': '0', 'properties': {}, 'required': []}, 'bank_account_no': {'type_': 3, 'format_': '', 'description': '', 'nullable': False, 'enum': [], 'max_items': '0', 'min_items': '0', 'properties': {}, 'required': []}}, 'required': ['name', 'bank_account_no'], 'format_': '', 'nullable': False, 'enum': [], 'max_items': '0', 'min_items': '0'}}\n"
          ]
        },
        {
          "output_type": "execute_result",
          "data": {
            "text/plain": [
              "AIMessage(content='', additional_kwargs={'function_call': {'name': 'deposit_money_tool', 'arguments': '{\"name\": \"Ahmad\", \"bank_account_no\": 123.0}'}}, response_metadata={'prompt_feedback': {'block_reason': 0, 'safety_ratings': []}, 'finish_reason': 'STOP', 'safety_ratings': [{'category': 'HARM_CATEGORY_SEXUALLY_EXPLICIT', 'probability': 'NEGLIGIBLE', 'blocked': False}, {'category': 'HARM_CATEGORY_HARASSMENT', 'probability': 'NEGLIGIBLE', 'blocked': False}, {'category': 'HARM_CATEGORY_HATE_SPEECH', 'probability': 'NEGLIGIBLE', 'blocked': False}, {'category': 'HARM_CATEGORY_DANGEROUS_CONTENT', 'probability': 'NEGLIGIBLE', 'blocked': False}]}, id='run-7e84862c-2e18-4728-a2a9-f437bb0f38b1-0', tool_calls=[{'name': 'deposit_money_tool', 'args': {'name': 'Ahmad', 'bank_account_no': 123.0}, 'id': '96cac24b-7da9-4740-a4dd-4b2b692111ce', 'type': 'tool_call'}], usage_metadata={'input_tokens': 96, 'output_tokens': 28, 'total_tokens': 124})"
            ]
          },
          "metadata": {},
          "execution_count": 28
        }
      ],
      "source": [
        "call = llm_with_tools.invoke(\n",
        "    [HumanMessage(content=f\"Deposit Money in Ahmad Account. His acc number is 00123\", name=\"Muhammad\")])\n",
        "call"
      ]
    },
    {
      "cell_type": "markdown",
      "metadata": {
        "id": "uUV74OzmNRwK"
      },
      "source": [
        "### Building Graph"
      ]
    },
    {
      "cell_type": "code",
      "execution_count": 29,
      "metadata": {
        "id": "bwUSDpDRNTNu"
      },
      "outputs": [],
      "source": [
        "# We have an LLM Capable of Tool Calling: using bind_tools\n",
        "\n",
        "# Now Lets do the Orchestration Through LangGraph\n",
        "\n",
        "# 0.  State\n",
        "\n",
        "from typing_extensions import TypedDict\n",
        "\n",
        "class LlmWithToolSState(TypedDict):\n",
        "  messages: list\n",
        "\n",
        "# 1. tool calling llm ki Node\n",
        "\n",
        "def call_llm(state: LlmWithToolSState):\n",
        "  messages = state[\"messages\"]\n",
        "  call_response = llm_with_tools.invoke(messages)\n",
        "  # messages.append(call_response)\n",
        "\n",
        "  # return {\"messages\": messages}\n",
        "  return {\"messages\": [call_response]}\n",
        "\n",
        "# 2. Graph\n",
        "\n",
        "from langgraph.graph import StateGraph, START, END\n",
        "\n",
        "builder: StateGraph = StateGraph(LlmWithToolSState)\n",
        "\n",
        "# define nodes\n",
        "builder.add_node(\"call_llm_with_tools\", call_llm)\n",
        "\n",
        "# define edges\n",
        "builder.add_edge(START, \"call_llm_with_tools\")\n",
        "builder.add_edge(\"call_llm_with_tools\", END)\n",
        "\n",
        "# build graph\n",
        "graph = builder.compile()\n"
      ]
    },
    {
      "cell_type": "code",
      "execution_count": 30,
      "metadata": {
        "colab": {
          "base_uri": "https://localhost:8080/",
          "height": 251
        },
        "id": "0xqNUBlwPi4Y",
        "outputId": "4d1e3e80-2ddd-43ff-fc70-3ddefa30880d"
      },
      "outputs": [
        {
          "output_type": "display_data",
          "data": {
            "image/jpeg": "[encoded data removed]",
            "text/plain": [
              "<IPython.core.display.Image object>"
            ]
          },
          "metadata": {}
        }
      ],
      "source": [
        "from IPython.display import display, Image\n",
        "\n",
        "display(Image(graph.get_graph().draw_mermaid_png()))"
      ]
    },
    {
      "cell_type": "code",
      "execution_count": 31,
      "metadata": {
        "colab": {
          "base_uri": "https://localhost:8080/"
        },
        "id": "jPyDSV6FPqO-",
        "outputId": "ed8fded1-0138-4076-8774-247a4c931b8f"
      },
      "outputs": [
        {
          "output_type": "stream",
          "name": "stdout",
          "text": [
            "{'name': 'deposit_money_tool', 'description': 'Deposit Money in Bank account.\\n\\n    Args:\\n        name: first str\\n        bank_account_no: second int', 'parameters': {'type_': 6, 'description': 'Deposit Money in Bank account.\\n\\nArgs:\\n    name: first str\\n    bank_account_no: second int', 'properties': {'name': {'type_': 1, 'format_': '', 'description': '', 'nullable': False, 'enum': [], 'max_items': '0', 'min_items': '0', 'properties': {}, 'required': []}, 'bank_account_no': {'type_': 3, 'format_': '', 'description': '', 'nullable': False, 'enum': [], 'max_items': '0', 'min_items': '0', 'properties': {}, 'required': []}}, 'required': ['name', 'bank_account_no'], 'format_': '', 'nullable': False, 'enum': [], 'max_items': '0', 'min_items': '0'}}\n"
          ]
        },
        {
          "output_type": "execute_result",
          "data": {
            "text/plain": [
              "{'messages': [AIMessage(content='Hi! How can I help you today? 😊 \\n', additional_kwargs={}, response_metadata={'prompt_feedback': {'block_reason': 0, 'safety_ratings': []}, 'finish_reason': 'STOP', 'safety_ratings': [{'category': 'HARM_CATEGORY_SEXUALLY_EXPLICIT', 'probability': 'NEGLIGIBLE', 'blocked': False}, {'category': 'HARM_CATEGORY_HATE_SPEECH', 'probability': 'NEGLIGIBLE', 'blocked': False}, {'category': 'HARM_CATEGORY_HARASSMENT', 'probability': 'NEGLIGIBLE', 'blocked': False}, {'category': 'HARM_CATEGORY_DANGEROUS_CONTENT', 'probability': 'NEGLIGIBLE', 'blocked': False}]}, id='run-f1d5ca8b-ca25-4b5c-9260-0c10040cae5e-0', usage_metadata={'input_tokens': 81, 'output_tokens': 10, 'total_tokens': 91})]}"
            ]
          },
          "metadata": {},
          "execution_count": 31
        }
      ],
      "source": [
        "graph.invoke({\"messages\": [HumanMessage(content=\"Hi\")]})"
      ]
    },
    {
      "cell_type": "code",
      "execution_count": 32,
      "metadata": {
        "colab": {
          "base_uri": "https://localhost:8080/"
        },
        "id": "d_Md3GjXP0yU",
        "outputId": "1766ec57-7262-402f-a728-2fe0d9d30fe8"
      },
      "outputs": [
        {
          "output_type": "stream",
          "name": "stdout",
          "text": [
            "{'name': 'deposit_money_tool', 'description': 'Deposit Money in Bank account.\\n\\n    Args:\\n        name: first str\\n        bank_account_no: second int', 'parameters': {'type_': 6, 'description': 'Deposit Money in Bank account.\\n\\nArgs:\\n    name: first str\\n    bank_account_no: second int', 'properties': {'name': {'type_': 1, 'format_': '', 'description': '', 'nullable': False, 'enum': [], 'max_items': '0', 'min_items': '0', 'properties': {}, 'required': []}, 'bank_account_no': {'type_': 3, 'format_': '', 'description': '', 'nullable': False, 'enum': [], 'max_items': '0', 'min_items': '0', 'properties': {}, 'required': []}}, 'required': ['name', 'bank_account_no'], 'format_': '', 'nullable': False, 'enum': [], 'max_items': '0', 'min_items': '0'}}\n"
          ]
        },
        {
          "output_type": "execute_result",
          "data": {
            "text/plain": [
              "{'messages': [AIMessage(content='', additional_kwargs={'function_call': {'name': 'deposit_money_tool', 'arguments': '{\"name\": \"Ahmad\", \"bank_account_no\": 1.0}'}}, response_metadata={'prompt_feedback': {'block_reason': 0, 'safety_ratings': []}, 'finish_reason': 'STOP', 'safety_ratings': [{'category': 'HARM_CATEGORY_DANGEROUS_CONTENT', 'probability': 'NEGLIGIBLE', 'blocked': False}, {'category': 'HARM_CATEGORY_SEXUALLY_EXPLICIT', 'probability': 'NEGLIGIBLE', 'blocked': False}, {'category': 'HARM_CATEGORY_HARASSMENT', 'probability': 'NEGLIGIBLE', 'blocked': False}, {'category': 'HARM_CATEGORY_HATE_SPEECH', 'probability': 'NEGLIGIBLE', 'blocked': False}]}, id='run-a1077d84-040b-4985-a7c8-b7220f3d723a-0', tool_calls=[{'name': 'deposit_money_tool', 'args': {'name': 'Ahmad', 'bank_account_no': 1.0}, 'id': 'ad95e215-2179-4861-92de-0e1c41167d6d', 'type': 'tool_call'}], usage_metadata={'input_tokens': 100, 'output_tokens': 26, 'total_tokens': 126})]}"
            ]
          },
          "metadata": {},
          "execution_count": 32
        }
      ],
      "source": [
        "graph.invoke({\"messages\": [HumanMessage(content=\"Deposiut 7000 in Ahmad Account - his bank num is 001\")]})"
      ]
    },
    {
      "cell_type": "markdown",
      "metadata": {
        "id": "tlrKwnLfoqpV"
      },
      "source": [
        "#### Current Flow\n",
        "\n",
        "- LLM: Call this Tool\n",
        "- System: Called Tool and told LLM the result.\n",
        "\n",
        "#### Issue ??: Where is my Human Message\n",
        "\n",
        "Right now in response we only have AIMessage\n",
        "\n",
        "#### Solutions:\n",
        "\n",
        "- Proposal 1: manually Add Messages in call_llm using llm\n",
        "- Proposal 2: Reducer Functions to Keep History Context"
      ]
    }
  ],
  "metadata": {
    "colab": {
      "provenance": [],
      "include_colab_link": true
    },
    "kernelspec": {
      "display_name": "Python 3",
      "name": "python3"
    },
    "language_info": {
      "codemirror_mode": {
        "name": "ipython",
        "version": 3
      },
      "file_extension": ".py",
      "mimetype": "text/x-python",
      "name": "python",
      "nbconvert_exporter": "python",
      "pygments_lexer": "ipython3",
      "version": "3.12.6"
    }
  },
  "nbformat": 4,
  "nbformat_minor": 0
}