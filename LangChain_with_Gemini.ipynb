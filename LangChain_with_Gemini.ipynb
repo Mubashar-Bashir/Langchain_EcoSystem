{
 "cells": [
  {
   "cell_type": "code",
   "execution_count": null,
   "metadata": {},
   "outputs": [],
   "source": []
  },
  {
   "cell_type": "code",
   "execution_count": null,
   "metadata": {},
   "outputs": [],
   "source": []
  },
  {
   "cell_type": "markdown",
   "metadata": {},
   "source": []
  },
  {
   "cell_type": "markdown",
   "metadata": {},
   "source": [
    "# Google Gemini API with LangChain Project"
   ]
  },
  {
   "cell_type": "markdown",
   "metadata": {},
   "source": [
    "## Environment Setup and Utility Functions\n",
    "**Install Required Package**\n",
    "**LangChain:** A framework for building applications using large language models, facilitating the creation of language model pipelines.\n",
    "\n",
    "**LangChain Google GenAI Integration:** An integration with Google's Generative AI tools, allowing for the use of advanced language models within the LangChain framework."
   ]
  },
  {
   "cell_type": "code",
   "execution_count": null,
   "metadata": {},
   "outputs": [],
   "source": [
    "\n",
    "# Install the LangChain and LangChain's Google GenAI integration\n",
    "# `-q` keeps the output minimal.\n",
    "# `-U` ensures you are using the latest versions of the packages\n",
    "%pip install -q -U langchain\n",
    "%pip install -q -U langchain-google-genai"
   ]
  }
 ],
 "metadata": {
  "kernelspec": {
   "display_name": "Python 3",
   "language": "python",
   "name": "python3"
  },
  "language_info": {
   "name": "python",
   "version": "3.12.4"
  }
 },
 "nbformat": 4,
 "nbformat_minor": 2
}
