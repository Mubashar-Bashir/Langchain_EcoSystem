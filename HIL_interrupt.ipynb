{
  "nbformat": 4,
  "nbformat_minor": 0,
  "metadata": {
    "colab": {
      "provenance": [],
      "include_colab_link": true
    },
    "kernelspec": {
      "name": "python3",
      "display_name": "Python 3"
    },
    "language_info": {
      "name": "python"
    }
  },
  "cells": [
    {
      "cell_type": "markdown",
      "metadata": {
        "id": "view-in-github",
        "colab_type": "text"
      },
      "source": [
        "<a href=\"https://colab.research.google.com/github/Mubashar-Bashir/Langchain_EcoSystem/blob/main/HIL_interrupt.ipynb\" target=\"_parent\"><img src=\"https://colab.research.google.com/assets/colab-badge.svg\" alt=\"Open In Colab\"/></a>"
      ]
    },
    {
      "cell_type": "code",
      "execution_count": 1,
      "metadata": {
        "id": "gM7EZczY8ZAX"
      },
      "outputs": [],
      "source": [
        "%%capture --no-stderr\n",
        "%pip install --quiet -U langgraph"
      ]
    },
    {
      "cell_type": "markdown",
      "source": [],
      "metadata": {
        "id": "YTK1e3FB9Rap"
      }
    },
    {
      "cell_type": "markdown",
      "source": [
        "## Case 0 - Basic Usage"
      ],
      "metadata": {
        "id": "Jx8XFw6W9PsU"
      }
    },
    {
      "cell_type": "code",
      "source": [
        "from typing_extensions import TypedDict\n",
        "from langgraph.graph import StateGraph, START, END\n",
        "from langgraph.checkpoint.memory import MemorySaver\n",
        "from IPython.display import Image, display\n",
        "\n",
        "from langgraph.types import Command, interrupt\n",
        "\n",
        "\n",
        "class State(TypedDict):\n",
        "    input: str\n",
        "    user_feedback: str\n",
        "\n",
        "\n",
        "def step_1(state):\n",
        "    print(\"---Step 1---\")\n",
        "    pass\n",
        "\n",
        "\n",
        "def human_feedback(state):\n",
        "    print(\"---human_feedback--- \")\n",
        "    print(f\"Initial Input from User pass state>>>: {state['input']}\") #state input value=A\n",
        "    feedback = interrupt(value=input(\"Enter New Value: \")) #{state[\"input\"]} #updates =Value = B\n",
        "    print(f\"\\n\\n[GOT BACK FROM HUMAN AFTER INTERRUPT:]\\n\\n\", feedback)\n",
        "    return {\"user_feedback\": feedback}\n",
        "\n",
        "\n",
        "def step_3(state):\n",
        "    print(\"---Step 3---\")\n",
        "    print(state[\"input\"])\n",
        "    print(state[\"user_feedback\"])\n",
        "    return state\n",
        "\n",
        "\n",
        "\n",
        "builder = StateGraph(State)\n",
        "builder.add_node(\"step_1\", step_1)\n",
        "builder.add_node(\"human_feedback\", human_feedback)\n",
        "builder.add_node(\"step_3\", step_3)\n",
        "\n",
        "builder.add_edge(START, \"step_1\")\n",
        "builder.add_edge(\"step_1\", \"human_feedback\")\n",
        "builder.add_edge(\"human_feedback\", \"step_3\")\n",
        "builder.add_edge(\"step_3\", END)\n",
        "\n",
        "# Set up memory\n",
        "memory = MemorySaver()\n",
        "\n",
        "# Add\n",
        "graph = builder.compile(checkpointer=memory)\n",
        "\n",
        "# View\n",
        "display(Image(graph.get_graph().draw_mermaid_png()))"
      ],
      "metadata": {
        "colab": {
          "base_uri": "https://localhost:8080/",
          "height": 449
        },
        "id": "TJsHcyyJ9-V5",
        "outputId": "e410683c-519d-42ae-992a-2fd2ed687ce9"
      },
      "execution_count": 115,
      "outputs": [
        {
          "output_type": "display_data",
          "data": {
            "image/png": "[encoded data removed]",
            "text/plain": [
              "<IPython.core.display.Image object>"
            ]
          },
          "metadata": {}
        }
      ]
    },
    {
      "cell_type": "code",
      "source": [
        "# Config\n",
        "# Input\n",
        "\n",
        "# Input\n",
        "initial_input = {\"input\": \" A\"}\n",
        "\n",
        "# Thread\n",
        "thread = {\"configurable\": {\"thread_id\": \"5\"}}\n",
        "\n",
        "# Run the graph until the first interruption\n",
        "for event in graph.stream(initial_input, thread, stream_mode=\"updates\"): #value= A , stream_mode=update=\"B\"\n",
        "    print(event)\n",
        "    print(\"\\n\")"
      ],
      "metadata": {
        "colab": {
          "base_uri": "https://localhost:8080/"
        },
        "id": "svOfCDHa_I-6",
        "outputId": "e63bb82b-205f-419b-9dfb-35af94b64635"
      },
      "execution_count": 116,
      "outputs": [
        {
          "output_type": "stream",
          "name": "stdout",
          "text": [
            "---Step 1---\n",
            "{'step_1': None}\n",
            "\n",
            "\n",
            "---human_feedback--- \n",
            "Initial Input from User pass state>>>:  A\n",
            "Enter New Value: B\n",
            "{'__interrupt__': (Interrupt(value='B', resumable=True, ns=['human_feedback:be87f5d1-4dbb-6c6e-4ccf-aaf442d73ace'], when='during'),)}\n",
            "\n",
            "\n"
          ]
        }
      ]
    },
    {
      "cell_type": "code",
      "source": [
        "# HOW TO RESUME\n",
        "# Continue the graph execution\n",
        "for event in graph.stream(\n",
        "    Command(resume=\"goto next step-4\"),\n",
        "    thread,\n",
        "    stream_mode=\"updates\"\n",
        "):\n",
        "    print(event)\n",
        "    print(\"\\n\")"
      ],
      "metadata": {
        "colab": {
          "base_uri": "https://localhost:8080/"
        },
        "id": "rksqtSwiAKLt",
        "outputId": "9a20b591-b75e-4f93-eeaa-8b38801ba8ec"
      },
      "execution_count": 117,
      "outputs": [
        {
          "output_type": "stream",
          "name": "stdout",
          "text": [
            "---human_feedback--- \n",
            "Initial Input from User pass state>>>:  A\n",
            "Enter New Value: C\n",
            "\n",
            "\n",
            "[GOT BACK FROM HUMAN AFTER INTERRUPT:]\n",
            "\n",
            " goto next step-4\n",
            "{'human_feedback': {'user_feedback': 'goto next step-4'}}\n",
            "\n",
            "\n",
            "---Step 3---\n",
            " A\n",
            "goto next step-4\n",
            "{'step_3': {'input': ' A', 'user_feedback': 'goto next step-4'}}\n",
            "\n",
            "\n"
          ]
        }
      ]
    },
    {
      "cell_type": "code",
      "source": [
        "thread = {\"configurable\": {\"thread_id\": \"6\"}}"
      ],
      "metadata": {
        "id": "8HUj6a0Vt4HY"
      },
      "execution_count": 101,
      "outputs": []
    },
    {
      "cell_type": "code",
      "source": [
        "graph.update_state(thread, {\"input\": \"G\"})"
      ],
      "metadata": {
        "id": "F-4C4r1tsHjn",
        "outputId": "1db1c45b-ebf7-4cda-cfc7-674dd26241c9",
        "colab": {
          "base_uri": "https://localhost:8080/"
        }
      },
      "execution_count": 102,
      "outputs": [
        {
          "output_type": "execute_result",
          "data": {
            "text/plain": [
              "{'configurable': {'thread_id': '6',\n",
              "  'checkpoint_ns': '',\n",
              "  'checkpoint_id': '1efc615c-8ef9-6766-8000-19e348e7f734'}}"
            ]
          },
          "metadata": {},
          "execution_count": 102
        }
      ]
    },
    {
      "cell_type": "code",
      "source": [
        "graph.get_state(thread)"
      ],
      "metadata": {
        "id": "KNeaVh7gqsWI",
        "outputId": "c5ef4602-b698-4112-f056-1de528fa0fec",
        "colab": {
          "base_uri": "https://localhost:8080/"
        }
      },
      "execution_count": 113,
      "outputs": [
        {
          "output_type": "execute_result",
          "data": {
            "text/plain": [
              "StateSnapshot(values={'input': ' A'}, next=('human_feedback',), config={'configurable': {'thread_id': '5', 'checkpoint_ns': '', 'checkpoint_id': '1efc6174-5b81-6a07-8001-22eeb070882c'}}, metadata={'source': 'loop', 'writes': {'step_1': None}, 'thread_id': '5', 'step': 1, 'parents': {}}, created_at='2024-12-29T19:01:12.801462+00:00', parent_config={'configurable': {'thread_id': '5', 'checkpoint_ns': '', 'checkpoint_id': '1efc6174-5b77-6e99-8000-f114cb20d7a9'}}, tasks=(PregelTask(id='4b95483a-6d88-5a20-0291-b6583821cb58', name='human_feedback', path=('__pregel_pull', 'human_feedback'), error=None, interrupts=(Interrupt(value='B', resumable=True, ns=['human_feedback:4b95483a-6d88-5a20-0291-b6583821cb58'], when='during'),), state=None, result=None),))"
            ]
          },
          "metadata": {},
          "execution_count": 113
        }
      ]
    },
    {
      "cell_type": "code",
      "source": [],
      "metadata": {
        "id": "rSCU2chOs3bo"
      },
      "execution_count": null,
      "outputs": []
    },
    {
      "cell_type": "markdown",
      "source": [
        "## Case 1: Approve or Reject"
      ],
      "metadata": {
        "id": "-Dl4dJzbCRP0"
      }
    },
    {
      "cell_type": "markdown",
      "source": [
        "## Case 2 Tool Calling - Review/Reject"
      ],
      "metadata": {
        "id": "7-0XB_NV9NDV"
      }
    },
    {
      "cell_type": "code",
      "source": [],
      "metadata": {
        "id": "iXXo9tEPCFGZ"
      },
      "execution_count": null,
      "outputs": []
    }
  ]
}