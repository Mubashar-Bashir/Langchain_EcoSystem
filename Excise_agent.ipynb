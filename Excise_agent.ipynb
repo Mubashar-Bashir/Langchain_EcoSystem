{
  "nbformat": 4,
  "nbformat_minor": 0,
  "metadata": {
    "colab": {
      "provenance": [],
      "authorship_tag": "ABX9TyN29DPiXcEg2Ypt/Yfs/b1v",
      "include_colab_link": true
    },
    "kernelspec": {
      "name": "python3",
      "display_name": "Python 3"
    },
    "language_info": {
      "name": "python"
    }
  },
  "cells": [
    {
      "cell_type": "markdown",
      "metadata": {
        "id": "view-in-github",
        "colab_type": "text"
      },
      "source": [
        "<a href=\"https://colab.research.google.com/github/Mubashar-Bashir/Langchain_EcoSystem/blob/main/Excise_agent.ipynb\" target=\"_parent\"><img src=\"https://colab.research.google.com/assets/colab-badge.svg\" alt=\"Open In Colab\"/></a>"
      ]
    },
    {
      "cell_type": "code",
      "execution_count": 16,
      "metadata": {
        "id": "kSyYoeqa5BlQ"
      },
      "outputs": [],
      "source": [
        "# prompt: pip install langchain, langraph, google_genai, !pip install requests beautifulsoup4\n",
        "%%capture --no-stderr\n",
        "!pip install  -q -U  langchain\n",
        "!pip install  -q -U langgraph\n",
        "!pip install -q -U langchain-google-genai\n",
        "!pip install -q -U requests beautifulsoup4\n",
        "\n"
      ]
    },
    {
      "cell_type": "code",
      "source": [
        "# Import required libraries\n",
        "import requests\n",
        "from bs4 import BeautifulSoup"
      ],
      "metadata": {
        "id": "mWOjGUd65SfC"
      },
      "execution_count": 17,
      "outputs": []
    },
    {
      "cell_type": "code",
      "source": [
        "from google.colab import userdata\n",
        "google_api_key = userdata.get('Gemini-key')"
      ],
      "metadata": {
        "id": "iDev3WzV5tk-"
      },
      "execution_count": 18,
      "outputs": []
    },
    {
      "cell_type": "code",
      "source": [
        "from langchain_google_genai import ChatGoogleGenerativeAI\n",
        "\n",
        "# Initialize an instance of the ChatGoogleGenerativeAI with specific parameters\n",
        "llm: ChatGoogleGenerativeAI = ChatGoogleGenerativeAI(\n",
        "    model=\"gemini-1.5-flash\",  # Specify the model to use\n",
        "    api_key=google_api_key,     # Provide the Google API key for authentication\n",
        ")"
      ],
      "metadata": {
        "id": "4paGBMXg5uwQ"
      },
      "execution_count": 19,
      "outputs": []
    },
    {
      "cell_type": "code",
      "source": [
        "from typing import Dict, TypedDict\n",
        "from langgraph.graph import StateGraph, END\n",
        "from langchain_core.prompts import ChatPromptTemplate\n",
        "\n",
        "from IPython.display import display, Image\n",
        "from langchain_core.runnables.graph import MermaidDrawMethod\n",
        "\n",
        "import os"
      ],
      "metadata": {
        "id": "NY3_i1694R9s"
      },
      "execution_count": 20,
      "outputs": []
    },
    {
      "cell_type": "code",
      "source": [
        "# 1. State\n",
        "#      prompt = str\n",
        "# 2. Nodes\n",
        "  # - Classification\n",
        "  # - Entity Extraction\n",
        "\n",
        "# 3. Edges\n",
        "\n",
        "# 4. Graph\n",
        "\n",
        "# 5. Run"
      ],
      "metadata": {
        "id": "JWq1PJpd5yg8"
      },
      "execution_count": null,
      "outputs": []
    },
    {
      "cell_type": "code",
      "source": [
        "# from typing import Annotated\n",
        "# from langgraph.graph.message import add_messages\n",
        "\n",
        "# class MessagesState(TypedDict):\n",
        "#     messages: Annotated[list[AnyMessage], add_messages]"
      ],
      "metadata": {
        "id": "r4c0XeS7palQ"
      },
      "execution_count": null,
      "outputs": []
    },
    {
      "cell_type": "code",
      "source": [
        "#sample state\n",
        "# class State(TypedDict):\n",
        "#     query: str\n",
        "#     category: str\n",
        "#     sentiment: str\n",
        "#     response: str"
      ],
      "metadata": {
        "id": "dLaEGYZO2kcw"
      },
      "execution_count": null,
      "outputs": []
    },
    {
      "cell_type": "code",
      "source": [
        "# Excis & Taxation Basic state prompt_query , sentiment, department\n",
        "from typing_extensions import TypedDict\n",
        "\n",
        "class State(TypedDict):\n",
        "  query: str\n",
        "  Sentiment_analysis: str\n",
        "  category: str  # department [\"MVR\", \"UIPT\", \"Prof Tax\", \"HIPT\", \"Excise-Duty\", \"Cotton_Fee\", \"General\"]\n",
        "  #department:list[str]=[\"MVR\", \"UIPT\", \"Prof Tax\", \"HIPT\", \"Excise-Duty\", \"Cotton_Fee\", \"General\"]\n",
        "  #summary: str\n"
      ],
      "metadata": {
        "id": "n4MnWl9T8nBo"
      },
      "execution_count": 21,
      "outputs": []
    },
    {
      "cell_type": "code",
      "source": [
        "def categorize(state: State) -> State:\n",
        "    \"\"\"Categorize the customer query into [\"MVR\", \"UIPT\", \"Prof Tax\", \"HIPT\", \"Excise-Duty\", \"Cotton_Fee\", \"General\"]\"\"\"\n",
        "    prompt = ChatPromptTemplate.from_template(\n",
        "        \"Categorize the following customer query into one of these categories: \"\n",
        "        \"MVR, UIPT, Prof Tax, HIPT, Excise-Duty, Cotton_Fee, General. Query: {query}\"\n",
        "    )\n",
        "    chain = prompt | llm\n",
        "    category = chain.invoke({\"query\": state[\"query\"]}).content\n",
        "    return {\"customer_query_category\": category}\n",
        "\n",
        "def analyze_sentiment(state: State) -> State:\n",
        "    \"\"\"Analyze the sentiment of the customer query as Positive, Neutral, or Negative.\"\"\"\n",
        "    prompt = ChatPromptTemplate.from_template(\n",
        "        \"Analyze the sentiment of the following customer query. \"\n",
        "        \"Respond with either 'Positive', 'Neutral', or 'Negative'. Query: {query}\"\n",
        "    )\n",
        "    chain = prompt | llm\n",
        "    sentiment = chain.invoke({\"query\": state[\"query\"]}).content\n",
        "    return {\"Sentiment_analysis\": sentiment}\n",
        "\n",
        "def handle_MVR(state: State) -> State:\n",
        "    \"\"\"Provide a Motor_vehicle support response to the query.\"\"\"\n",
        "    prompt = ChatPromptTemplate.from_template(\n",
        "        \"Provide a Motor Vehicle's support response to the following query: {query}\"\n",
        "    )\n",
        "    chain = prompt | llm\n",
        "    response = chain.invoke({\"query\": state[\"query\"]}).content\n",
        "    return {\"response\": response}\n",
        "\n",
        "def handle_billing(state: State) -> State:\n",
        "    \"\"\"Provide a billing support response to the query.\"\"\"\n",
        "    prompt = ChatPromptTemplate.from_template(\n",
        "        \"Provide a billing support response to the following query: {query}\"\n",
        "    )\n",
        "    chain = prompt | llm\n",
        "    response = chain.invoke({\"query\": state[\"query\"]}).content\n",
        "    return {\"response\": response}\n",
        "\n",
        "def handle_general(state: State) -> State:\n",
        "    \"\"\"Provide a general support response to the query.\"\"\"\n",
        "    prompt = ChatPromptTemplate.from_template(\n",
        "        \"Provide a general support response to the following query: {query}\"\n",
        "    )\n",
        "    chain = prompt | llm\n",
        "    response = chain.invoke({\"query\": state[\"query\"]}).content\n",
        "    return {\"response\": response}\n",
        "\n",
        "def escalate(state: State) -> State:\n",
        "    \"\"\"Escalate the query to a human agent due to negative sentiment.\"\"\"\n",
        "    return {\"response\": \"This query has been escalated to a human agent due to its negative sentiment.\"}\n",
        "\n"
      ],
      "metadata": {
        "id": "tBgsqP383k7l"
      },
      "execution_count": 27,
      "outputs": []
    },
    {
      "cell_type": "code",
      "source": [
        "\n",
        "# def handle_MVR(state: State) -> State:\n",
        "#     \"\"\"Provide a Motor_vehicle support response to the query.\"\"\"\n",
        "#     prompt = ChatPromptTemplate.from_template(\n",
        "#         \"Provide a Motor Vehicle's support response to the following query: {query}\"\n",
        "#     )\n",
        "#     chain = prompt | llm\n",
        "#     response = chain.invoke({\"query\": state[\"query\"]}).content\n",
        "#     return {\"response\": response}\n",
        "\n",
        "def handle_UIPT(state: State) -> State:\n",
        "    \"\"\"Provide a UIPT or Property Tax support response to the query.\"\"\"\n",
        "    prompt = ChatPromptTemplate.from_template(\n",
        "        \"Provide a UIPT or Property Tax support response to the following query: {query}\"\n",
        "    )\n",
        "    chain = prompt | llm\n",
        "    response = chain.invoke({\"query\": state[\"query\"]}).content\n",
        "    return {\"response\": response}\n",
        "\n",
        "\n",
        "def handle_Prof_Tax(state: State) -> State:\n",
        "    \"\"\"Provide a Prof Tax support response to the query.\"\"\"\n",
        "    prompt = ChatPromptTemplate.from_template(\n",
        "        \"Provide a Professional Tax support response to the following query: {query}\"\n",
        "    )\n",
        "    chain = prompt | llm\n",
        "    response = chain.invoke({\"query\": state[\"query\"]}).content\n",
        "    return {\"response\": response}\n",
        "\n",
        "\n",
        "def handle_HIPT(state: State) -> State:\n",
        "    \"\"\"Provide a HIPT support response to the query.\"\"\"\n",
        "    prompt = ChatPromptTemplate.from_template(\n",
        "        \"Provide a HIPT Highway Immovable Property Tax support response to the following query: {query}\"\n",
        "    )\n",
        "    chain = prompt | llm\n",
        "    response = chain.invoke({\"query\": state[\"query\"]}).content\n",
        "    return {\"response\": response}\n",
        "\n",
        "\n",
        "def handle_Excise_Duty(state: State) -> State:\n",
        "    \"\"\"Provide a Excise-Duty support response to the query.\"\"\"\n",
        "    prompt = ChatPromptTemplate.from_template(\n",
        "        \"Provide a Excise-Duty support response to the following query: {query}\"\n",
        "    )\n",
        "    chain = prompt | llm\n",
        "    response = chain.invoke({\"query\": state[\"query\"]}).content\n",
        "    return {\"response\": response}\n",
        "\n",
        "\n",
        "def handle_Cotton_Fee(state: State) -> State:\n",
        "    \"\"\"Provide a Cotton_Fee support response to the query.\"\"\"\n",
        "    prompt = ChatPromptTemplate.from_template(\n",
        "        \"Provide a Cotton_Fee support response to the following query: {query}\"\n",
        "    )\n",
        "    chain = prompt | llm\n",
        "    response = chain.invoke({\"query\": state[\"query\"]}).content\n",
        "    return {\"response\": response}"
      ],
      "metadata": {
        "id": "nGBWrNpNASZU"
      },
      "execution_count": 28,
      "outputs": []
    },
    {
      "cell_type": "code",
      "source": [
        "# prompt: handle\n",
        "#  def route_query(state: State) -> str:\n",
        "#     \"\"\"Route the query based on its sentiment and category.\"\"\" forexample sample\n",
        "#     if state[\"sentiment\"] == \"Negative\":\n",
        "#         return \"escalate\"\n",
        "#     elif state[\"category\"] == \"MVR\":\n",
        "#         return \"handle_technical\"\n",
        "#     elif state[\"category\"] == \"Billing\":\n",
        "#         return \"handle_billing\"\n",
        "#     else:\n",
        "#         return \"handle_general\"\n",
        "# create according to our nodes\n",
        "\n",
        "def route_query(state: State) -> str:\n",
        "    \"\"\"Route the query based on its sentiment and category.\"\"\"\n",
        "    if state[\"Sentiment_analysis\"] == \"Negative\":\n",
        "        return \"escalate\"\n",
        "    elif state[\"category\"] == \"MVR\":\n",
        "        return \"handle_MVR\"\n",
        "    elif state[\"category\"] == \"UIPT\":\n",
        "        return \"handle_UIPT\"\n",
        "    elif state[\"category\"] == \"Prof Tax\":\n",
        "        return \"handle_Prof_Tax\"\n",
        "    elif state[\"category\"] == \"HIPT\":\n",
        "        return \"handle_HIPT\"\n",
        "    elif state[\"category\"] == \"Excise-Duty\":\n",
        "        return \"handle_Excise_Duty\"\n",
        "    elif state[\"category\"] == \"Cotton_Fee\":\n",
        "        return \"handle_Cotton_Fee\"\n",
        "    else:\n",
        "        return \"handle_general\""
      ],
      "metadata": {
        "id": "9eovs931BulW"
      },
      "execution_count": 29,
      "outputs": []
    },
    {
      "cell_type": "code",
      "source": [
        "from langgraph.graph import StateGraph, START, END\n",
        "from langgraph.graph.state import CompiledStateGraph\n"
      ],
      "metadata": {
        "id": "14xozBmYEKIx"
      },
      "execution_count": 25,
      "outputs": []
    },
    {
      "cell_type": "code",
      "source": [
        "# Build graph\n",
        "builder: StateGraph = StateGraph(State)\n",
        "builder.add_node(\"Assistant\", llm)\n",
        "builder.add_node(\"query_category\", categorize)\n",
        "builder.add_node(\"analyze_sentiment\", analyze_sentiment)\n",
        "builder.add_node(\"route_query\", route_query)\n",
        "builder.add_node(\"handle_MVR\", handle_MVR)\n",
        "builder.add_node(\"handle_UIPT\",handle_UIPT)\n",
        "builder.add_node(\"handle_Prof_Tax\",handle_Prof_Tax)\n",
        "builder.add_node(\"handle_HIPT\",handle_HIPT)\n",
        "builder.add_node(\"handle_Excise_Duty\",handle_Excise_Duty)\n",
        "builder.add_node(\"handle_Cotton_Fee\",handle_Cotton_Fee)\n",
        "builder.add_node(\"handle_billing\",handle_billing)\n",
        "builder.add_node(\"handle_general\",handle_general)\n",
        "builder.add_node(\"escalate\",escalate)\n",
        "\n",
        "\n",
        "# Logic\n",
        "builder.add_edge(START, \"Assistant\")\n",
        "builder.add_edge(\"Assistant\", \"query_category\")\n",
        "builder.add_edge(\"Assistant\", \"analyze_sentiment\")\n",
        "builder.add_edge(\"query_category\", \"route_query\")\n",
        "builder.add_edge(\"analyze_sentiment\", \"route_query\")\n",
        "builder.add_edge(\"route_query\", \"handle_MVR\")\n",
        "builder.add_edge(\"route_query\", \"handle_UIPT\")\n",
        "builder.add_edge(\"route_query\", \"handle_Prof_Tax\")\n",
        "builder.add_edge(\"route_query\", \"handle_HIPT\")\n",
        "builder.add_edge(\"route_query\", \"handle_Excise_Duty\")\n",
        "builder.add_edge(\"route_query\", \"handle_Cotton_Fee\")\n",
        "builder.add_edge(\"route_query\", \"handle_billing\")\n",
        "builder.add_edge(\"route_query\", \"handle_general\")\n",
        "builder.add_edge(\"route_query\", \"escalate\")\n",
        "builder.add_edge(\"handle_MVR\", END)\n",
        "builder.add_edge(\"handle_UIPT\", END)\n",
        "builder.add_edge(\"handle_Prof_Tax\", END)\n",
        "builder.add_edge(\"handle_HIPT\", END)\n",
        "builder.add_edge(\"handle_Excise_Duty\", END)\n",
        "builder.add_edge(\"handle_Cotton_Fee\", END)\n",
        "builder.add_edge(\"handle_billing\", END)\n",
        "builder.add_edge(\"handle_general\", END)\n",
        "builder.add_edge(\"escalate\", END)\n",
        "\n",
        "\n",
        "# Add\n",
        "graph: CompiledStateGraph = builder.compile()\n"
      ],
      "metadata": {
        "id": "RtLoI5s3E6Cq"
      },
      "execution_count": 47,
      "outputs": []
    },
    {
      "cell_type": "code",
      "source": [
        "# prompt: print image of graph mermaid graph image print\n",
        "from IPython.display import display, Image\n",
        "from langchain_core.runnables.graph import MermaidDrawMethod\n",
        "display(\n",
        "    Image(\n",
        "        graph.get_graph().draw_mermaid_png(\n",
        "            draw_method=MermaidDrawMethod.API,\n",
        "        )\n",
        "    )\n",
        ")"
      ],
      "metadata": {
        "colab": {
          "base_uri": "https://localhost:8080/",
          "height": 334
        },
        "id": "ToX0AHpzOorf",
        "outputId": "7691e5ca-8baa-4b61-e05e-18ac8bb33013"
      },
      "execution_count": 48,
      "outputs": [
        {
          "output_type": "display_data",
          "data": {
            "image/jpeg": "[encoded data removed]",
            "text/plain": [
              "<IPython.core.display.Image object>"
            ]
          },
          "metadata": {}
        }
      ]
    },
    {
      "cell_type": "code",
      "source": [
        "response = graph.invoke(input=\"hi\")\n",
        "print(response)"
      ],
      "metadata": {
        "colab": {
          "base_uri": "https://localhost:8080/",
          "height": 321
        },
        "id": "r0xZ08bOQNZG",
        "outputId": "eb0c17f1-3923-454b-f0f3-7609fe7d2431"
      },
      "execution_count": 52,
      "outputs": [
        {
          "output_type": "error",
          "ename": "InvalidUpdateError",
          "evalue": "Expected dict, got hi\nFor troubleshooting, visit: https://python.langchain.com/docs/troubleshooting/errors/INVALID_GRAPH_NODE_RETURN_VALUE",
          "traceback": [
            "\u001b[0;31m---------------------------------------------------------------------------\u001b[0m",
            "\u001b[0;31mInvalidUpdateError\u001b[0m                        Traceback (most recent call last)",
            "\u001b[0;32m<ipython-input-52-c0cf947cc403>\u001b[0m in \u001b[0;36m<cell line: 1>\u001b[0;34m()\u001b[0m\n\u001b[0;32m----> 1\u001b[0;31m \u001b[0mresponse\u001b[0m \u001b[0;34m=\u001b[0m \u001b[0mgraph\u001b[0m\u001b[0;34m.\u001b[0m\u001b[0minvoke\u001b[0m\u001b[0;34m(\u001b[0m\u001b[0minput\u001b[0m\u001b[0;34m=\u001b[0m\u001b[0;34m\"hi\"\u001b[0m\u001b[0;34m)\u001b[0m\u001b[0;34m\u001b[0m\u001b[0;34m\u001b[0m\u001b[0m\n\u001b[0m\u001b[1;32m      2\u001b[0m \u001b[0mprint\u001b[0m\u001b[0;34m(\u001b[0m\u001b[0mresponse\u001b[0m\u001b[0;34m)\u001b[0m\u001b[0;34m\u001b[0m\u001b[0;34m\u001b[0m\u001b[0m\n",
            "\u001b[0;32m/usr/local/lib/python3.10/dist-packages/langgraph/pregel/__init__.py\u001b[0m in \u001b[0;36minvoke\u001b[0;34m(self, input, config, stream_mode, output_keys, interrupt_before, interrupt_after, debug, **kwargs)\u001b[0m\n\u001b[1;32m   1584\u001b[0m         \u001b[0;32melse\u001b[0m\u001b[0;34m:\u001b[0m\u001b[0;34m\u001b[0m\u001b[0;34m\u001b[0m\u001b[0m\n\u001b[1;32m   1585\u001b[0m             \u001b[0mchunks\u001b[0m \u001b[0;34m=\u001b[0m \u001b[0;34m[\u001b[0m\u001b[0;34m]\u001b[0m\u001b[0;34m\u001b[0m\u001b[0;34m\u001b[0m\u001b[0m\n\u001b[0;32m-> 1586\u001b[0;31m         for chunk in self.stream(\n\u001b[0m\u001b[1;32m   1587\u001b[0m             \u001b[0minput\u001b[0m\u001b[0;34m,\u001b[0m\u001b[0;34m\u001b[0m\u001b[0;34m\u001b[0m\u001b[0m\n\u001b[1;32m   1588\u001b[0m             \u001b[0mconfig\u001b[0m\u001b[0;34m,\u001b[0m\u001b[0;34m\u001b[0m\u001b[0;34m\u001b[0m\u001b[0m\n",
            "\u001b[0;32m/usr/local/lib/python3.10/dist-packages/langgraph/pregel/__init__.py\u001b[0m in \u001b[0;36mstream\u001b[0;34m(self, input, config, stream_mode, output_keys, interrupt_before, interrupt_after, debug, subgraphs)\u001b[0m\n\u001b[1;32m   1313\u001b[0m                     \u001b[0mmanager\u001b[0m\u001b[0;34m=\u001b[0m\u001b[0mrun_manager\u001b[0m\u001b[0;34m,\u001b[0m\u001b[0;34m\u001b[0m\u001b[0;34m\u001b[0m\u001b[0m\n\u001b[1;32m   1314\u001b[0m                 ):\n\u001b[0;32m-> 1315\u001b[0;31m                     for _ in runner.tick(\n\u001b[0m\u001b[1;32m   1316\u001b[0m                         \u001b[0mloop\u001b[0m\u001b[0;34m.\u001b[0m\u001b[0mtasks\u001b[0m\u001b[0;34m.\u001b[0m\u001b[0mvalues\u001b[0m\u001b[0;34m(\u001b[0m\u001b[0;34m)\u001b[0m\u001b[0;34m,\u001b[0m\u001b[0;34m\u001b[0m\u001b[0;34m\u001b[0m\u001b[0m\n\u001b[1;32m   1317\u001b[0m                         \u001b[0mtimeout\u001b[0m\u001b[0;34m=\u001b[0m\u001b[0mself\u001b[0m\u001b[0;34m.\u001b[0m\u001b[0mstep_timeout\u001b[0m\u001b[0;34m,\u001b[0m\u001b[0;34m\u001b[0m\u001b[0;34m\u001b[0m\u001b[0m\n",
            "\u001b[0;32m/usr/local/lib/python3.10/dist-packages/langgraph/pregel/runner.py\u001b[0m in \u001b[0;36mtick\u001b[0;34m(self, tasks, reraise, timeout, retry_policy, get_waiter)\u001b[0m\n\u001b[1;32m     54\u001b[0m             \u001b[0mt\u001b[0m \u001b[0;34m=\u001b[0m \u001b[0mtasks\u001b[0m\u001b[0;34m[\u001b[0m\u001b[0;36m0\u001b[0m\u001b[0;34m]\u001b[0m\u001b[0;34m\u001b[0m\u001b[0;34m\u001b[0m\u001b[0m\n\u001b[1;32m     55\u001b[0m             \u001b[0;32mtry\u001b[0m\u001b[0;34m:\u001b[0m\u001b[0;34m\u001b[0m\u001b[0;34m\u001b[0m\u001b[0m\n\u001b[0;32m---> 56\u001b[0;31m                 \u001b[0mrun_with_retry\u001b[0m\u001b[0;34m(\u001b[0m\u001b[0mt\u001b[0m\u001b[0;34m,\u001b[0m \u001b[0mretry_policy\u001b[0m\u001b[0;34m)\u001b[0m\u001b[0;34m\u001b[0m\u001b[0;34m\u001b[0m\u001b[0m\n\u001b[0m\u001b[1;32m     57\u001b[0m                 \u001b[0mself\u001b[0m\u001b[0;34m.\u001b[0m\u001b[0mcommit\u001b[0m\u001b[0;34m(\u001b[0m\u001b[0mt\u001b[0m\u001b[0;34m,\u001b[0m \u001b[0;32mNone\u001b[0m\u001b[0;34m)\u001b[0m\u001b[0;34m\u001b[0m\u001b[0;34m\u001b[0m\u001b[0m\n\u001b[1;32m     58\u001b[0m             \u001b[0;32mexcept\u001b[0m \u001b[0mException\u001b[0m \u001b[0;32mas\u001b[0m \u001b[0mexc\u001b[0m\u001b[0;34m:\u001b[0m\u001b[0;34m\u001b[0m\u001b[0;34m\u001b[0m\u001b[0m\n",
            "\u001b[0;32m/usr/local/lib/python3.10/dist-packages/langgraph/pregel/retry.py\u001b[0m in \u001b[0;36mrun_with_retry\u001b[0;34m(task, retry_policy)\u001b[0m\n\u001b[1;32m     27\u001b[0m             \u001b[0mtask\u001b[0m\u001b[0;34m.\u001b[0m\u001b[0mwrites\u001b[0m\u001b[0;34m.\u001b[0m\u001b[0mclear\u001b[0m\u001b[0;34m(\u001b[0m\u001b[0;34m)\u001b[0m\u001b[0;34m\u001b[0m\u001b[0;34m\u001b[0m\u001b[0m\n\u001b[1;32m     28\u001b[0m             \u001b[0;31m# run the task\u001b[0m\u001b[0;34m\u001b[0m\u001b[0;34m\u001b[0m\u001b[0m\n\u001b[0;32m---> 29\u001b[0;31m             \u001b[0mtask\u001b[0m\u001b[0;34m.\u001b[0m\u001b[0mproc\u001b[0m\u001b[0;34m.\u001b[0m\u001b[0minvoke\u001b[0m\u001b[0;34m(\u001b[0m\u001b[0mtask\u001b[0m\u001b[0;34m.\u001b[0m\u001b[0minput\u001b[0m\u001b[0;34m,\u001b[0m \u001b[0mconfig\u001b[0m\u001b[0;34m)\u001b[0m\u001b[0;34m\u001b[0m\u001b[0;34m\u001b[0m\u001b[0m\n\u001b[0m\u001b[1;32m     30\u001b[0m             \u001b[0;31m# if successful, end\u001b[0m\u001b[0;34m\u001b[0m\u001b[0;34m\u001b[0m\u001b[0m\n\u001b[1;32m     31\u001b[0m             \u001b[0;32mbreak\u001b[0m\u001b[0;34m\u001b[0m\u001b[0;34m\u001b[0m\u001b[0m\n",
            "\u001b[0;32m/usr/local/lib/python3.10/dist-packages/langgraph/utils/runnable.py\u001b[0m in \u001b[0;36minvoke\u001b[0;34m(self, input, config, **kwargs)\u001b[0m\n\u001b[1;32m    174\u001b[0m                 \u001b[0mcontext\u001b[0m \u001b[0;34m=\u001b[0m \u001b[0mcopy_context\u001b[0m\u001b[0;34m(\u001b[0m\u001b[0;34m)\u001b[0m\u001b[0;34m\u001b[0m\u001b[0;34m\u001b[0m\u001b[0m\n\u001b[1;32m    175\u001b[0m                 \u001b[0mcontext\u001b[0m\u001b[0;34m.\u001b[0m\u001b[0mrun\u001b[0m\u001b[0;34m(\u001b[0m\u001b[0m_set_config_context\u001b[0m\u001b[0;34m,\u001b[0m \u001b[0mchild_config\u001b[0m\u001b[0;34m)\u001b[0m\u001b[0;34m\u001b[0m\u001b[0;34m\u001b[0m\u001b[0m\n\u001b[0;32m--> 176\u001b[0;31m                 \u001b[0mret\u001b[0m \u001b[0;34m=\u001b[0m \u001b[0mcontext\u001b[0m\u001b[0;34m.\u001b[0m\u001b[0mrun\u001b[0m\u001b[0;34m(\u001b[0m\u001b[0mself\u001b[0m\u001b[0;34m.\u001b[0m\u001b[0mfunc\u001b[0m\u001b[0;34m,\u001b[0m \u001b[0minput\u001b[0m\u001b[0;34m,\u001b[0m \u001b[0;34m**\u001b[0m\u001b[0mkwargs\u001b[0m\u001b[0;34m)\u001b[0m\u001b[0;34m\u001b[0m\u001b[0;34m\u001b[0m\u001b[0m\n\u001b[0m\u001b[1;32m    177\u001b[0m             \u001b[0;32mexcept\u001b[0m \u001b[0mBaseException\u001b[0m \u001b[0;32mas\u001b[0m \u001b[0me\u001b[0m\u001b[0;34m:\u001b[0m\u001b[0;34m\u001b[0m\u001b[0;34m\u001b[0m\u001b[0m\n\u001b[1;32m    178\u001b[0m                 \u001b[0mrun_manager\u001b[0m\u001b[0;34m.\u001b[0m\u001b[0mon_chain_error\u001b[0m\u001b[0;34m(\u001b[0m\u001b[0me\u001b[0m\u001b[0;34m)\u001b[0m\u001b[0;34m\u001b[0m\u001b[0;34m\u001b[0m\u001b[0m\n",
            "\u001b[0;32m/usr/local/lib/python3.10/dist-packages/langgraph/pregel/write.py\u001b[0m in \u001b[0;36m_write\u001b[0;34m(self, input, config)\u001b[0m\n\u001b[1;32m     83\u001b[0m             \u001b[0;32mfor\u001b[0m \u001b[0mwrite\u001b[0m \u001b[0;32min\u001b[0m \u001b[0mself\u001b[0m\u001b[0;34m.\u001b[0m\u001b[0mwrites\u001b[0m\u001b[0;34m\u001b[0m\u001b[0;34m\u001b[0m\u001b[0m\n\u001b[1;32m     84\u001b[0m         ]\n\u001b[0;32m---> 85\u001b[0;31m         self.do_write(\n\u001b[0m\u001b[1;32m     86\u001b[0m             \u001b[0mconfig\u001b[0m\u001b[0;34m,\u001b[0m\u001b[0;34m\u001b[0m\u001b[0;34m\u001b[0m\u001b[0m\n\u001b[1;32m     87\u001b[0m             \u001b[0mwrites\u001b[0m\u001b[0;34m,\u001b[0m\u001b[0;34m\u001b[0m\u001b[0;34m\u001b[0m\u001b[0m\n",
            "\u001b[0;32m/usr/local/lib/python3.10/dist-packages/langgraph/pregel/write.py\u001b[0m in \u001b[0;36mdo_write\u001b[0;34m(config, writes, require_at_least_one_of)\u001b[0m\n\u001b[1;32m    123\u001b[0m         \u001b[0mentries\u001b[0m \u001b[0;34m=\u001b[0m \u001b[0;34m[\u001b[0m\u001b[0mwrite\u001b[0m \u001b[0;32mfor\u001b[0m \u001b[0mwrite\u001b[0m \u001b[0;32min\u001b[0m \u001b[0mwrites\u001b[0m \u001b[0;32mif\u001b[0m \u001b[0misinstance\u001b[0m\u001b[0;34m(\u001b[0m\u001b[0mwrite\u001b[0m\u001b[0;34m,\u001b[0m \u001b[0mChannelWriteEntry\u001b[0m\u001b[0;34m)\u001b[0m\u001b[0;34m]\u001b[0m\u001b[0;34m\u001b[0m\u001b[0;34m\u001b[0m\u001b[0m\n\u001b[1;32m    124\u001b[0m         \u001b[0;31m# process entries into values\u001b[0m\u001b[0;34m\u001b[0m\u001b[0;34m\u001b[0m\u001b[0m\n\u001b[0;32m--> 125\u001b[0;31m         values = [\n\u001b[0m\u001b[1;32m    126\u001b[0m             \u001b[0mwrite\u001b[0m\u001b[0;34m.\u001b[0m\u001b[0mmapper\u001b[0m\u001b[0;34m(\u001b[0m\u001b[0mwrite\u001b[0m\u001b[0;34m.\u001b[0m\u001b[0mvalue\u001b[0m\u001b[0;34m)\u001b[0m \u001b[0;32mif\u001b[0m \u001b[0mwrite\u001b[0m\u001b[0;34m.\u001b[0m\u001b[0mmapper\u001b[0m \u001b[0;32mis\u001b[0m \u001b[0;32mnot\u001b[0m \u001b[0;32mNone\u001b[0m \u001b[0;32melse\u001b[0m \u001b[0mwrite\u001b[0m\u001b[0;34m.\u001b[0m\u001b[0mvalue\u001b[0m\u001b[0;34m\u001b[0m\u001b[0;34m\u001b[0m\u001b[0m\n\u001b[1;32m    127\u001b[0m             \u001b[0;32mfor\u001b[0m \u001b[0mwrite\u001b[0m \u001b[0;32min\u001b[0m \u001b[0mentries\u001b[0m\u001b[0;34m\u001b[0m\u001b[0;34m\u001b[0m\u001b[0m\n",
            "\u001b[0;32m/usr/local/lib/python3.10/dist-packages/langgraph/pregel/write.py\u001b[0m in \u001b[0;36m<listcomp>\u001b[0;34m(.0)\u001b[0m\n\u001b[1;32m    124\u001b[0m         \u001b[0;31m# process entries into values\u001b[0m\u001b[0;34m\u001b[0m\u001b[0;34m\u001b[0m\u001b[0m\n\u001b[1;32m    125\u001b[0m         values = [\n\u001b[0;32m--> 126\u001b[0;31m             \u001b[0mwrite\u001b[0m\u001b[0;34m.\u001b[0m\u001b[0mmapper\u001b[0m\u001b[0;34m(\u001b[0m\u001b[0mwrite\u001b[0m\u001b[0;34m.\u001b[0m\u001b[0mvalue\u001b[0m\u001b[0;34m)\u001b[0m \u001b[0;32mif\u001b[0m \u001b[0mwrite\u001b[0m\u001b[0;34m.\u001b[0m\u001b[0mmapper\u001b[0m \u001b[0;32mis\u001b[0m \u001b[0;32mnot\u001b[0m \u001b[0;32mNone\u001b[0m \u001b[0;32melse\u001b[0m \u001b[0mwrite\u001b[0m\u001b[0;34m.\u001b[0m\u001b[0mvalue\u001b[0m\u001b[0;34m\u001b[0m\u001b[0;34m\u001b[0m\u001b[0m\n\u001b[0m\u001b[1;32m    127\u001b[0m             \u001b[0;32mfor\u001b[0m \u001b[0mwrite\u001b[0m \u001b[0;32min\u001b[0m \u001b[0mentries\u001b[0m\u001b[0;34m\u001b[0m\u001b[0;34m\u001b[0m\u001b[0m\n\u001b[1;32m    128\u001b[0m         ]\n",
            "\u001b[0;32m/usr/local/lib/python3.10/dist-packages/langgraph/graph/state.py\u001b[0m in \u001b[0;36m_get_state_key\u001b[0;34m(input, key)\u001b[0m\n\u001b[1;32m    543\u001b[0m                     \u001b[0merror_code\u001b[0m\u001b[0;34m=\u001b[0m\u001b[0mErrorCode\u001b[0m\u001b[0;34m.\u001b[0m\u001b[0mINVALID_GRAPH_NODE_RETURN_VALUE\u001b[0m\u001b[0;34m,\u001b[0m\u001b[0;34m\u001b[0m\u001b[0;34m\u001b[0m\u001b[0m\n\u001b[1;32m    544\u001b[0m                 )\n\u001b[0;32m--> 545\u001b[0;31m                 \u001b[0;32mraise\u001b[0m \u001b[0mInvalidUpdateError\u001b[0m\u001b[0;34m(\u001b[0m\u001b[0mmsg\u001b[0m\u001b[0;34m)\u001b[0m\u001b[0;34m\u001b[0m\u001b[0;34m\u001b[0m\u001b[0m\n\u001b[0m\u001b[1;32m    546\u001b[0m \u001b[0;34m\u001b[0m\u001b[0m\n\u001b[1;32m    547\u001b[0m         \u001b[0;31m# state updaters\u001b[0m\u001b[0;34m\u001b[0m\u001b[0;34m\u001b[0m\u001b[0m\n",
            "\u001b[0;31mInvalidUpdateError\u001b[0m: Expected dict, got hi\nFor troubleshooting, visit: https://python.langchain.com/docs/troubleshooting/errors/INVALID_GRAPH_NODE_RETURN_VALUE"
          ]
        }
      ]
    },
    {
      "cell_type": "code",
      "source": [],
      "metadata": {
        "id": "YPb4PKz-d5fd"
      },
      "execution_count": null,
      "outputs": []
    },
    {
      "cell_type": "code",
      "source": [
        "# prompt: create graph of above functional nodes\n",
        "\n",
        "graph = StateGraph(\n",
        "    start_state={\"query\": \"\"},\n",
        "    nodes={\n",
        "        \"categorize\": categorize,\n",
        "        \"analyze_sentiment\": analyze_sentiment,\n",
        "        \"handle_MVR\": handle_MVR,\n",
        "        \"handle_UIPT\": handle_UIPT,\n",
        "        \"handle_Prof_Tax\": handle_Prof_Tax,\n",
        "        \"handle_HIPT\": handle_HIPT,\n",
        "        \"handle_Excise_Duty\": handle_Excise_Duty,\n",
        "        \"handle_Cotton_Fee\": handle_Cotton_Fee,\n",
        "        \"handle_billing\": handle_billing,\n",
        "        \"handle_general\": handle_general,\n",
        "        \"escalate\": escalate,\n",
        "        END: None,\n",
        "\n",
        "    },\n",
        "    edges=[\n",
        "        (\"start_state\", \"analyze_sentiment\"),\n",
        "        (\"analyze_sentiment\", \"categorize\"),\n",
        "        (\"categorize\", \"route_query\"),\n",
        "        (\"route_query\", \"handle_MVR\", lambda state: state[\"category\"] == \"MVR\"),\n",
        "        (\"route_query\", \"handle_UIPT\", lambda state: state[\"category\"] == \"UIPT\"),\n",
        "        (\"route_query\", \"handle_Prof_Tax\", lambda state: state[\"category\"] == \"Prof Tax\"),\n",
        "        (\"route_query\", \"handle_HIPT\", lambda state: state[\"category\"] == \"HIPT\"),\n",
        "        (\"route_query\", \"handle_Excise_Duty\", lambda state: state[\"category\"] == \"Excise-Duty\"),\n",
        "        (\"route_query\", \"handle_Cotton_Fee\", lambda state: state[\"category\"] == \"Cotton_Fee\"),\n",
        "        (\"route_query\", \"handle_billing\", lambda state: state[\"category\"] == \"Billing\"),\n",
        "        (\"route_query\", \"handle_general\", lambda state: state[\"category\"] == \"General\"),\n",
        "        (\"route_query\", \"escalate\", lambda state: state[\"sentiment\"] == \"Negative\"),\n",
        "        (\"handle_MVR\", END),\n",
        "        (\"handle_UIPT\", END),\n",
        "        (\"handle_Prof_Tax\", END),\n",
        "        (\"handle_HIPT\", END),\n",
        "        (\"handle_Excise_Duty\", END),\n",
        "        (\"handle_Cotton_Fee\", END),\n",
        "        (\"handle_billing\", END),\n",
        "        (\"handle_general\", END),\n",
        "        (\"escalate\", END),\n",
        "    ],\n",
        "    draw_method=MermaidDrawMethod(),\n",
        ")\n",
        "\n",
        "display(Image(graph.draw()))"
      ],
      "metadata": {
        "id": "YlYcD18hECus"
      },
      "execution_count": null,
      "outputs": []
    },
    {
      "cell_type": "code",
      "source": [
        "import langchain\n",
        "\n",
        "\n",
        "def classify_department(prompt):\n",
        "    # ... (same as before)\n",
        "\n",
        "    # If no keywords match, use LLM for classification\n",
        "    llm_response = llm.invoke(prompt=\"Classify this prompt into a department: \" + prompt)\n",
        "    department = llm_response.text.strip()\n",
        "\n",
        "    # Extract the classification keyword from the LLM response\n",
        "    classification_keyword = extract_keyword(llm_response.text)\n",
        "\n",
        "    return department, classification_keyword\n",
        "\n",
        "condition_node = langraph.ConditionNode(\n",
        "  input_keys=[\"prompt\"],\n",
        "  output_keys=[\"department\", \"classification_keyword\"],\n",
        "  condition_expr=classify_department\n",
        ")"
      ],
      "metadata": {
        "id": "2q47_xXn9Nas"
      },
      "execution_count": null,
      "outputs": []
    },
    {
      "cell_type": "code",
      "source": [
        "def extract_keyword(text):\n",
        "    # Extract the first word after the classification label (assuming a format like \"Department: MVR\")\n",
        "    match = re.search(r\"Department: (\\w+)\", text)\n",
        "    if match:\n",
        "        return match.group(1)\n",
        "    else:\n",
        "        return None  # Handle cases where no keyword is found"
      ],
      "metadata": {
        "id": "yctaYhur9NMr"
      },
      "execution_count": null,
      "outputs": []
    },
    {
      "cell_type": "code",
      "source": [],
      "metadata": {
        "id": "W7FzjccT9M9f"
      },
      "execution_count": null,
      "outputs": []
    },
    {
      "cell_type": "code",
      "source": [
        "# # Define the message state structure for state management\n",
        "# class MessageState:\n",
        "#     def __init__(self):\n",
        "#         self.user_input = \"\"\n",
        "#         self.previous_responses = []\n"
      ],
      "metadata": {
        "id": "GfsbzrdS5j6c"
      },
      "execution_count": null,
      "outputs": []
    },
    {
      "cell_type": "code",
      "source": [
        "# Define a function to extract information from a given URL based on user query\n",
        "def extract_information_from_website(url: str, query: str):\n",
        "    try:\n",
        "        response = requests.get(url)\n",
        "        response.raise_for_status()  # Raise an error for bad responses\n",
        "        soup = BeautifulSoup(response.text, 'html.parser')\n",
        "\n",
        "        # Simple keyword search logic\n",
        "        paragraphs = soup.find_all('p')\n",
        "        found_info = []\n",
        "        for paragraph in paragraphs:\n",
        "            if query.lower() in paragraph.text.lower():\n",
        "                found_info.append(paragraph.text.strip())\n",
        "\n",
        "        # If no keyword matches, extract general info\n",
        "        if not found_info:\n",
        "            found_info = [p.text.strip() for p in paragraphs[:3]]  # Take first three paragraphs as general info\n",
        "\n",
        "        return \" \".join(found_info) if found_info else \"No relevant information found.\"\n",
        "\n",
        "    except Exception as e:\n",
        "        return f\"An error occurred while fetching information: {str(e)}\"\n"
      ],
      "metadata": {
        "id": "zZMloLPh5m_L"
      },
      "execution_count": null,
      "outputs": []
    },
    {
      "cell_type": "code",
      "source": [
        "# Define function for Excise Duty Node\n",
        "def excise_duty_node(state: MessageState):\n",
        "    user_input = state.user_input\n",
        "    knowledge_source_url = \"https://excise.punjab.gov.pk/excise_duty\"\n",
        "    extracted_info = extract_information_from_website(knowledge_source_url, user_input)\n",
        "\n",
        "    if \"error\" in extracted_info.lower():\n",
        "        response = extracted_info  # Pass the error message directly\n",
        "    elif extracted_info:\n",
        "        response = f\"Here's what I found regarding your query on excise duty: {extracted_info}\"\n",
        "    else:\n",
        "        response = \"I'm sorry, I couldn't find specific information related to your question. Can you please rephrase it?\"\n",
        "\n",
        "    state.previous_responses.append(response)\n",
        "    return {\"response\": response}\n"
      ],
      "metadata": {
        "id": "FCTlUMwI5pnG"
      },
      "execution_count": null,
      "outputs": []
    },
    {
      "cell_type": "code",
      "source": [
        "# Define function for Motor Vehicle Tax Node\n",
        "def motor_vehicle_tax_node(state: MessageState):\n",
        "    user_input = state.user_input\n",
        "    knowledge_source_url = \"https://excise.punjab.gov.pk/motorvehicle_tax\"\n",
        "    extracted_info = extract_information_from_website(knowledge_source_url, user_input)\n",
        "\n",
        "    if \"error\" in extracted_info.lower():\n",
        "        response = extracted_info  # Pass the error message directly\n",
        "    elif extracted_info:\n",
        "        response = f\"Here's what I found regarding your query on motor vehicle tax: {extracted_info}\"\n",
        "    else:\n",
        "        response = \"I'm sorry, I couldn't find specific information related to your question. Can you please rephrase it?\"\n",
        "\n",
        "    state.previous_responses.append(response)\n",
        "    return {\"response\": response}\n"
      ],
      "metadata": {
        "id": "4Zdj59Bz6DBb"
      },
      "execution_count": null,
      "outputs": []
    },
    {
      "cell_type": "code",
      "source": [
        "# Testing the functions\n",
        "test_state = MessageState()\n",
        "test_state.user_input = 'What is the excise duty?'\n",
        "\n",
        "# Test the Excise Duty Node\n",
        "response = excise_duty_node(test_state)\n",
        "print(response)\n",
        "\n",
        "# Test the Motor Vehicle Tax Node\n",
        "test_state.user_input = 'What about the motor vehicle tax?'\n",
        "response = motor_vehicle_tax_node(test_state)\n",
        "print(response)\n"
      ],
      "metadata": {
        "id": "KGboQQc-6I4O"
      },
      "execution_count": null,
      "outputs": []
    },
    {
      "cell_type": "code",
      "source": [
        "# Function to collect user feedback\n",
        "def get_user_feedback():\n",
        "    feedback = input(\"Did you find the information helpful? (yes/no): \")\n",
        "    return feedback.lower() == \"yes\"\n",
        "\n",
        "# Simulate feedback after a response\n",
        "if response:\n",
        "    if get_user_feedback():\n",
        "        print(\"Thank you for your feedback!\")\n",
        "    else:\n",
        "        print(\"I'm sorry to hear that. How can I assist you further?\")\n"
      ],
      "metadata": {
        "id": "vnkmM4bu6LoI"
      },
      "execution_count": null,
      "outputs": []
    },
    {
      "cell_type": "code",
      "source": [
        "# Define a main function to handle user queries\n",
        "def main():\n",
        "    state = MessageState()\n",
        "\n",
        "    while True:\n",
        "        state.user_input = input(\"Please enter your query about Excise and Taxation (or type 'exit' to quit): \")\n",
        "        if state.user_input.lower() == 'exit':\n",
        "            break\n",
        "\n",
        "        # Call the relevant node based on the query (basic example)\n",
        "        if \"excise duty\" in state.user_input.lower():\n",
        "            response = excise_duty_node(state)\n",
        "        elif \"motor vehicle\" in state.user_input.lower():\n",
        "            response = motor_vehicle_tax_node(state)\n",
        "        else:\n",
        "            response = {\"response\": \"I'm sorry, I couldn't understand your query. Please try again.\"}\n",
        "\n",
        "        print(response['response'])\n",
        "\n",
        "        if get_user_feedback():\n",
        "            print(\"Thank you for your feedback!\")\n",
        "        else:\n",
        "            print(\"I'm here to help further!\")\n"
      ],
      "metadata": {
        "id": "yVWjbtx06Qaj"
      },
      "execution_count": null,
      "outputs": []
    },
    {
      "cell_type": "code",
      "source": [
        "# Run the main function to start the interaction\n",
        "main()\n"
      ],
      "metadata": {
        "id": "aiXk1fiP6Rex"
      },
      "execution_count": null,
      "outputs": []
    }
  ]
}