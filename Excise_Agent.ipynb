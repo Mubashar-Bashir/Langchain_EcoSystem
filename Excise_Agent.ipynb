{
  "nbformat": 4,
  "nbformat_minor": 0,
  "metadata": {
    "colab": {
      "provenance": [],
      "authorship_tag": "ABX9TyPNl8Nb2F8O8sQKD7ha4onu",
      "include_colab_link": true
    },
    "kernelspec": {
      "name": "python3",
      "display_name": "Python 3"
    },
    "language_info": {
      "name": "python"
    }
  },
  "cells": [
    {
      "cell_type": "markdown",
      "metadata": {
        "id": "view-in-github",
        "colab_type": "text"
      },
      "source": [
        "<a href=\"https://colab.research.google.com/github/Mubashar-Bashir/Langchain_EcoSystem/blob/main/Excise_Agent.ipynb\" target=\"_parent\"><img src=\"https://colab.research.google.com/assets/colab-badge.svg\" alt=\"Open In Colab\"/></a>"
      ]
    },
    {
      "cell_type": "markdown",
      "source": [
        "#Excise & Taxation Agentic AI System"
      ],
      "metadata": {
        "id": "4pfvHBzJWcP4"
      }
    },
    {
      "cell_type": "code",
      "execution_count": 1,
      "metadata": {
        "id": "hv_aZ9xpVzkX"
      },
      "outputs": [],
      "source": [
        "%%capture --no-stderr\n",
        "%pip install --quiet -U langchain_google_genai langchain_core langgraph"
      ]
    },
    {
      "cell_type": "code",
      "source": [
        "from google.colab import userdata\n",
        "GEMINI_API_KEY = userdata.get('Gemini-key')"
      ],
      "metadata": {
        "id": "xNyLRIO8WigM"
      },
      "execution_count": 2,
      "outputs": []
    },
    {
      "cell_type": "code",
      "source": [
        "from google.colab import userdata\n",
        "LANGCHAIN_API_KEY = userdata.get('LANGCHAIN_API_KEY')"
      ],
      "metadata": {
        "id": "9wZzLC9OWuHY"
      },
      "execution_count": 3,
      "outputs": []
    },
    {
      "cell_type": "code",
      "source": [
        "# Step 1: Initial Setup\n",
        "# Install Libraries\n",
        "%%capture --no-stderr\n",
        "%pip install --quiet -U langchain_google_genai langgraph\n",
        "\n",
        "# Import Dependencies\n",
        "from google.colab import userdata\n",
        "from langchain_google_genai import ChatGoogleGenerativeAI\n",
        "\n",
        "\n",
        "# API Key Setup\n",
        "GEMINI_API_KEY = userdata.get('Gemini-key')\n",
        "llm = ChatGoogleGenerativeAI(model=\"gemini-1.5-flash\", api_key=GEMINI_API_KEY)\n"
      ],
      "metadata": {
        "id": "tDHfP48Hdn70"
      },
      "execution_count": 4,
      "outputs": []
    },
    {
      "cell_type": "code",
      "source": [
        "\n",
        "\n",
        "\n",
        "# Step 2: Add Tools (Placeholder Functions for Excise Tasks)\n",
        "def vehicle_verification(vehicle_Reg_no: str) -> str:\n",
        "    \"\"\"Verify vehicle registration.\"\"\"\n",
        "    return f\"Vehicle {vehicle_Reg_no} is verified.\"\n",
        "\n",
        "def calculate_tax(invoice_value: float) -> str:\n",
        "    \"\"\"Calculate tax.\"\"\"\n",
        "    return f\"The tax on {invoice_value} is {invoice_value * 0.1}.\"\n",
        "\n",
        "tools = [vehicle_verification, calculate_tax]\n",
        "\n",
        "# Bind Tools to LLM\n",
        "llm_with_tools = llm.bind_tools(tools)\n",
        "\n"
      ],
      "metadata": {
        "id": "bVI3NA-wdyx_"
      },
      "execution_count": 5,
      "outputs": []
    },
    {
      "cell_type": "code",
      "source": [
        "from langgraph.graph import MessagesState\n",
        "from langchain_core.messages import AIMessage, HumanMessage, SystemMessage\n",
        "from langgraph.checkpoint.memory import MemorySaver\n",
        "from langgraph.graph import START, StateGraph, END\n",
        "from langgraph.graph.state import CompiledStateGraph\n",
        "from IPython.display import Image, display\n",
        "from langgraph.prebuilt import tools_condition , ToolNode\n",
        "# Step 3: Add Memory\n",
        "memory = MemorySaver()\n",
        "\n",
        "# Step 4: Define the State Graph\n",
        "builder = StateGraph(MessagesState)\n",
        "sys_msg = SystemMessage(content=\"You are an Excise & Taxation Punjab Assistant helping users with vehicle verification and tax calculations.\")\n",
        "\n",
        "#state schema\n",
        "#class Ex_TAssistant(MessagesState):\n",
        "\n",
        "#  pass\n",
        "\n",
        "def Ex_TAssistant(state: MessagesState) -> MessagesState:\n",
        "  return  {\"messages\": [llm_with_tools.invoke([sys_msg] + state[\"messages\"])]}\n",
        "\n",
        "#node\n",
        "builder.add_node(\"Ex_TAssistant\", Ex_TAssistant )\n",
        "builder.add_node(\"tools\", ToolNode([vehicle_verification, calculate_tax]))\n",
        "\n",
        "#edge\n",
        "builder.add_edge(START, \"Ex_TAssistant\")\n",
        "\n",
        "builder.add_conditional_edges(\"Ex_TAssistant\", tools_condition)\n",
        "\n",
        "#builder.add_edge(\"Ex_TAssistant\", END)\n",
        "\n",
        "builder.add_edge(\"tools\",\"Ex_TAssistant\" )\n",
        "\n",
        "# Compile the Graph with Memory\n",
        "react_graph_memory = builder.compile(checkpointer=memory)\n",
        "\n"
      ],
      "metadata": {
        "id": "meY2J0zbe3k6"
      },
      "execution_count": 19,
      "outputs": []
    },
    {
      "cell_type": "code",
      "source": [
        "from IPython.display import display, Image\n",
        "from langchain_core.runnables.graph import MermaidDrawMethod\n",
        "display(\n",
        "    Image(\n",
        "        react_graph_memory.get_graph().draw_mermaid_png(\n",
        "            draw_method=MermaidDrawMethod.API,\n",
        "        )\n",
        "    )\n",
        ")"
      ],
      "metadata": {
        "colab": {
          "base_uri": "https://localhost:8080/",
          "height": 266
        },
        "id": "VBoDacOEhTuA",
        "outputId": "03fa028c-c7b3-419e-b824-7ab95f6571c3"
      },
      "execution_count": 20,
      "outputs": [
        {
          "output_type": "display_data",
          "data": {
            "image/png": "[encoded data removed]",
            "text/plain": [
              "<IPython.core.display.Image object>"
            ]
          },
          "metadata": {}
        }
      ]
    },
    {
      "cell_type": "code",
      "source": [
        "\n",
        "# Step 5: Test Basic Interaction\n",
        "# Define Input and Thread ID\n",
        "config = {\"configurable\": {\"thread_id\": \"1\"}}\n",
        "messages = [HumanMessage(content=\"Verify vehicle ABC 123.\")]\n",
        "\n",
        "# Run the Graph\n",
        "output = react_graph_memory.invoke({\"messages\": messages}, config)\n",
        "for msg in output[\"messages\"]:\n",
        "    #print(msg.content)\n",
        "    msg"
      ],
      "metadata": {
        "id": "-DOrhMdFg90c"
      },
      "execution_count": 22,
      "outputs": []
    },
    {
      "cell_type": "code",
      "source": [
        "react_graph_memory.get_state(config=config)"
      ],
      "metadata": {
        "colab": {
          "base_uri": "https://localhost:8080/"
        },
        "id": "a-xePnimpmjo",
        "outputId": "a652d293-362f-4840-d8a3-11061ff4bf81"
      },
      "execution_count": 26,
      "outputs": [
        {
          "output_type": "execute_result",
          "data": {
            "text/plain": [
              "StateSnapshot(values={'messages': [HumanMessage(content='Verify vehicle ABC123.', additional_kwargs={}, response_metadata={}, id='782e19c5-35f2-48c9-bda4-af5eea4cdae5'), AIMessage(content='', additional_kwargs={'function_call': {'name': 'vehicle_verification', 'arguments': '{\"vehicle_Reg_no\": \"ABC123\"}'}}, response_metadata={'prompt_feedback': {'block_reason': 0, 'safety_ratings': []}, 'finish_reason': 'STOP', 'safety_ratings': []}, id='run-3f506004-f329-4217-b4a4-9c9e1aab42dc-0', tool_calls=[{'name': 'vehicle_verification', 'args': {'vehicle_Reg_no': 'ABC123'}, 'id': '279d8822-6e4e-46d9-aeae-a817e33c785c', 'type': 'tool_call'}], usage_metadata={'input_tokens': 108, 'output_tokens': 12, 'total_tokens': 120, 'input_token_details': {'cache_read': 0}}), ToolMessage(content='Vehicle ABC123 is verified.', name='vehicle_verification', id='4688d514-b321-44f5-a192-9409d47fe989', tool_call_id='279d8822-6e4e-46d9-aeae-a817e33c785c'), AIMessage(content='Vehicle ABC123 is verified.', additional_kwargs={}, response_metadata={'prompt_feedback': {'block_reason': 0, 'safety_ratings': []}, 'finish_reason': 'STOP', 'safety_ratings': []}, id='run-e4673b44-68b9-496e-882e-2e77c019d0a1-0', usage_metadata={'input_tokens': 154, 'output_tokens': 8, 'total_tokens': 162, 'input_token_details': {'cache_read': 0}}), HumanMessage(content='Verify vehicle ABC123.', additional_kwargs={}, response_metadata={}, id='40bf23d9-a2ed-4e53-99db-02b6e8b0e64c'), AIMessage(content='', additional_kwargs={'function_call': {'name': 'vehicle_verification', 'arguments': '{\"vehicle_Reg_no\": \"ABC123\"}'}}, response_metadata={'prompt_feedback': {'block_reason': 0, 'safety_ratings': []}, 'finish_reason': 'STOP', 'safety_ratings': []}, id='run-536e99bd-ea52-4167-a88e-81402715722a-0', tool_calls=[{'name': 'vehicle_verification', 'args': {'vehicle_Reg_no': 'ABC123'}, 'id': 'b3835c66-3bbf-4704-93ad-d295ef175fbf', 'type': 'tool_call'}], usage_metadata={'input_tokens': 171, 'output_tokens': 12, 'total_tokens': 183, 'input_token_details': {'cache_read': 0}}), ToolMessage(content='Vehicle ABC123 is verified.', name='vehicle_verification', id='ebcd657e-6998-4fa9-8b91-67b3e242f343', tool_call_id='b3835c66-3bbf-4704-93ad-d295ef175fbf'), AIMessage(content='Vehicle ABC123 is verified.\\n', additional_kwargs={}, response_metadata={'prompt_feedback': {'block_reason': 0, 'safety_ratings': []}, 'finish_reason': 'STOP', 'safety_ratings': []}, id='run-3f76009b-250a-40fc-916c-15ba59bbe604-0', usage_metadata={'input_tokens': 217, 'output_tokens': 9, 'total_tokens': 226, 'input_token_details': {'cache_read': 0}})]}, next=(), config={'configurable': {'thread_id': '1', 'checkpoint_ns': '', 'checkpoint_id': '1efb65a2-bcc4-68f2-8008-4219f2e26204'}}, metadata={'source': 'loop', 'writes': {'Ex_TAssistant': {'messages': [AIMessage(content='Vehicle ABC123 is verified.\\n', additional_kwargs={}, response_metadata={'prompt_feedback': {'block_reason': 0, 'safety_ratings': []}, 'finish_reason': 'STOP', 'safety_ratings': []}, id='run-3f76009b-250a-40fc-916c-15ba59bbe604-0', usage_metadata={'input_tokens': 217, 'output_tokens': 9, 'total_tokens': 226, 'input_token_details': {'cache_read': 0}})]}}, 'thread_id': '1', 'step': 8, 'parents': {}}, created_at='2024-12-09T18:19:46.989442+00:00', parent_config={'configurable': {'thread_id': '1', 'checkpoint_ns': '', 'checkpoint_id': '1efb65a2-b7f9-6f3d-8007-d8c876e98aef'}}, tasks=())"
            ]
          },
          "metadata": {},
          "execution_count": 26
        }
      ]
    },
    {
      "cell_type": "code",
      "source": [
        "# Step 5: Test Basic Interaction\n",
        "# Define Input and Thread ID\n",
        "config = {\"configurable\": {\"thread_id\": \"1\"}}\n",
        "messages = [HumanMessage(content=\"calculate vehicle_Tax Reg Number ABC 123 invoice value 5000000\")]\n",
        "\n",
        "# Run the Graph\n",
        "output = react_graph_memory.invoke({\"messages\": messages}, config)\n",
        "for msg in output[\"messages\"]:\n",
        "    #print(msg.content)\n",
        "    msg"
      ],
      "metadata": {
        "id": "tbHxufpGriqU"
      },
      "execution_count": 29,
      "outputs": []
    },
    {
      "cell_type": "code",
      "source": [
        "print(msg)"
      ],
      "metadata": {
        "colab": {
          "base_uri": "https://localhost:8080/"
        },
        "id": "0MDDHUtyrv_q",
        "outputId": "5ea3e6c1-8470-4a51-f348-3c99998c095f"
      },
      "execution_count": 30,
      "outputs": [
        {
          "output_type": "stream",
          "name": "stdout",
          "text": [
            "content='The tax on 5000000.0 is 500000.0.\\n' additional_kwargs={} response_metadata={'prompt_feedback': {'block_reason': 0, 'safety_ratings': []}, 'finish_reason': 'STOP', 'safety_ratings': []} id='run-b242f981-1add-4d1e-8a67-b9513ab91e8c-0' usage_metadata={'input_tokens': 393, 'output_tokens': 25, 'total_tokens': 418, 'input_token_details': {'cache_read': 0}}\n"
          ]
        }
      ]
    },
    {
      "cell_type": "code",
      "source": [
        "# Step 5: Test Basic Interaction\n",
        "# Define Input and Thread ID\n",
        "config = {\"configurable\": {\"thread_id\": \"1\"}}\n",
        "messages = [HumanMessage(content=\"can you tell me the excise services you can provide\")]\n",
        "\n",
        "# Run the Graph\n",
        "output = react_graph_memory.invoke({\"messages\": messages}, config)\n",
        "for msg in output[\"messages\"]:\n",
        "    print(msg.content)\n",
        ""
      ],
      "metadata": {
        "colab": {
          "base_uri": "https://localhost:8080/"
        },
        "id": "IHKgodqKtuwx",
        "outputId": "4caf6244-4035-4816-eb96-8dca0b7c14b2"
      },
      "execution_count": 32,
      "outputs": [
        {
          "output_type": "stream",
          "name": "stdout",
          "text": [
            "Verify vehicle ABC123.\n",
            "\n",
            "Vehicle ABC123 is verified.\n",
            "Vehicle ABC123 is verified.\n",
            "Verify vehicle ABC123.\n",
            "\n",
            "Vehicle ABC123 is verified.\n",
            "Vehicle ABC123 is verified.\n",
            "\n",
            "calculate vehicle_Tax Reg Number ABC 123 invoice value 50\n",
            "\n",
            "The tax on 50.0 is 5.0.\n",
            "The tax on 50.0 is 5.0.\n",
            "\n",
            "calculate vehicle_Tax Reg Number ABC 123 invoice value 5000000\n",
            "\n",
            "The tax on 5000000.0 is 500000.0.\n",
            "The tax on 5000000.0 is 500000.0.\n",
            "\n",
            "hi\n",
            "Hello! How can I help you today?\n",
            "\n",
            "can you tell me the excise services you can provide\n",
            "I can help you with vehicle verification and tax calculations.  Specifically, I can:\n",
            "\n",
            "* **Verify vehicle registration:**  Given a vehicle registration number, I can check if the vehicle is registered.\n",
            "* **Calculate vehicle tax:** Given the invoice value of a vehicle, I can calculate the applicable tax.\n",
            "\n",
            "Please let me know how I can assist you further.\n",
            "\n"
          ]
        }
      ]
    }
  ]
}