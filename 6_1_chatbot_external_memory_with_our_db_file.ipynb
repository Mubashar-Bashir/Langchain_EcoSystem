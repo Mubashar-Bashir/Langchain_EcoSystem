{
  "nbformat": 4,
  "nbformat_minor": 0,
  "metadata": {
    "colab": {
      "provenance": [],
      "authorship_tag": "ABX9TyOLZlwaFsNDxy0Ad0Q7psIg",
      "include_colab_link": true
    },
    "kernelspec": {
      "name": "python3",
      "display_name": "Python 3"
    },
    "language_info": {
      "name": "python"
    }
  },
  "cells": [
    {
      "cell_type": "markdown",
      "metadata": {
        "id": "view-in-github",
        "colab_type": "text"
      },
      "source": [
        "<a href=\"https://colab.research.google.com/github/Mubashar-Bashir/Langchain_EcoSystem/blob/main/6_1_chatbot_external_memory_with_our_db_file.ipynb\" target=\"_parent\"><img src=\"https://colab.research.google.com/assets/colab-badge.svg\" alt=\"Open In Colab\"/></a>"
      ]
    },
    {
      "cell_type": "markdown",
      "source": [
        "#Chatbot with message summarization & external DB memory\n",
        "##Review\n",
        "We've covered how to customize graph state schema and reducer.\n",
        "\n",
        "We've also shown a number of tricks for trimming or \"filtering messages\" in graph state.\n",
        "\n",
        "We've used these concepts in a Chatbot with 'memory' that produces a running summary of the conversation.\n",
        "\n",
        "##Goals\n",
        "###But, what if we want our Chatbot to have memory that persists indefinitely?\n",
        "\n",
        "<li>Now, we'll introduce some more advanced checkpointers that support external databases.\n",
        "\n",
        "<li>Here, we'll show how to use 'Sqlite' as a checkpointer, but other checkpointers, such as 'Postgres' are available!\n",
        "\n",
        "Use Cases for Database File Management:\n",
        "Fetching a Database File from a GitHub URL\n",
        "Uploading a Database File from Your Local System\n",
        "Accessing a Database File from Google Drive"
      ],
      "metadata": {
        "id": "SkEXB8jBkmwI"
      }
    },
    {
      "cell_type": "code",
      "execution_count": 1,
      "metadata": {
        "id": "4JjHgzEvkgoH"
      },
      "outputs": [],
      "source": [
        "%%capture --no-stderr\n",
        "%pip install --quiet -U langgraph-checkpoint-sqlite langchain_core langgraph langchain_google_genai"
      ]
    },
    {
      "cell_type": "code",
      "source": [
        "import os\n",
        "from google.colab import userdata\n",
        "\n",
        "os.environ[\"LANGCHAIN_API_KEY\"] = userdata.get('LANGCHAIN_API_KEY')\n",
        "os.environ[\"LANGCHAIN_TRACING_V2\"] = \"true\"\n",
        "os.environ[\"LANGCHAIN_PROJECT\"] =\"Basic_chatbot\"\n",
        "\n",
        "gemini_api_key = userdata.get('Gemini-key')\n",
        "os.environ[\"Gemini-key\"] = gemini_api_key"
      ],
      "metadata": {
        "id": "h-t-emQqlrWA"
      },
      "execution_count": 3,
      "outputs": []
    },
    {
      "cell_type": "markdown",
      "source": [
        "#Sqlite\n",
        "A good starting point here is the SqliteSaver checkpointer.\n",
        "\n",
        "Sqlite is a small, fast, highly popular SQL database.\n",
        "\n",
        "If we supply \":memory:\" it creates an in-memory Sqlite database."
      ],
      "metadata": {
        "id": "P3hZSJGAmSwe"
      }
    },
    {
      "cell_type": "code",
      "source": [
        "import sqlite3\n",
        "# In memory - temporary database is created, not on-disk database\n",
        "conn = sqlite3.connect(\":memory:\", check_same_thread = False)\n",
        "#check_same_thread = False | allowing multiple threads to share and use the same SQLite database connection. By default it is True"
      ],
      "metadata": {
        "id": "kM-S8wEElv-z"
      },
      "execution_count": 4,
      "outputs": []
    },
    {
      "cell_type": "markdown",
      "source": [
        "#Default Behavior:\n",
        "When you run the code for the first time, it will automatically fetch a new example.db file for you. But, if we supply a db path, then it will create a database for us!:"
      ],
      "metadata": {
        "id": "7CraACTLocpt"
      }
    },
    {
      "cell_type": "code",
      "source": [
        "import sqlite3\n",
        "# pull file if it doesn't exist and connect to local db\n",
        "\n",
        "!mkdir -p state_db && [ ! -f state_db/example.db ] && wget -P state_db https://github.com/langchain-ai/langchain-academy/raw/main/module-2/state_db/example.db\n",
        "\n",
        "db_path = \"state_db/example.db\"\n",
        "conn = sqlite3.connect(db_path, check_same_thread=False)"
      ],
      "metadata": {
        "colab": {
          "base_uri": "https://localhost:8080/"
        },
        "id": "1I9VF_gmooC7",
        "outputId": "37fdb987-73f4-4ec1-e126-d0ac6b3abd16"
      },
      "execution_count": 5,
      "outputs": [
        {
          "output_type": "stream",
          "name": "stdout",
          "text": [
            "--2024-11-26 18:05:15--  https://github.com/langchain-ai/langchain-academy/raw/main/module-2/state_db/example.db\n",
            "Resolving github.com (github.com)... 140.82.112.4\n",
            "Connecting to github.com (github.com)|140.82.112.4|:443... connected.\n",
            "HTTP request sent, awaiting response... 302 Found\n",
            "Location: https://raw.githubusercontent.com/langchain-ai/langchain-academy/main/module-2/state_db/example.db [following]\n",
            "--2024-11-26 18:05:15--  https://raw.githubusercontent.com/langchain-ai/langchain-academy/main/module-2/state_db/example.db\n",
            "Resolving raw.githubusercontent.com (raw.githubusercontent.com)... 185.199.108.133, 185.199.109.133, 185.199.110.133, ...\n",
            "Connecting to raw.githubusercontent.com (raw.githubusercontent.com)|185.199.108.133|:443... connected.\n",
            "HTTP request sent, awaiting response... 200 OK\n",
            "Length: 110592 (108K) [application/octet-stream]\n",
            "Saving to: ‘state_db/example.db’\n",
            "\n",
            "example.db          100%[===================>] 108.00K  --.-KB/s    in 0.02s   \n",
            "\n",
            "2024-11-26 18:05:16 (4.33 MB/s) - ‘state_db/example.db’ saved [110592/110592]\n",
            "\n"
          ]
        }
      ]
    },
    {
      "cell_type": "markdown",
      "source": [
        "#Mount with Google Drive"
      ],
      "metadata": {
        "id": "J8hpJEBnqWTG"
      }
    },
    {
      "cell_type": "code",
      "source": [
        "from google.colab import drive\n",
        "drive.mount('/content/drive')"
      ],
      "metadata": {
        "colab": {
          "base_uri": "https://localhost:8080/"
        },
        "id": "bDBF_VPrqZLc",
        "outputId": "b581b389-caa9-425f-d8ed-b6be8030a5fe"
      },
      "execution_count": 7,
      "outputs": [
        {
          "output_type": "stream",
          "name": "stdout",
          "text": [
            "Mounted at /content/drive\n"
          ]
        }
      ]
    },
    {
      "cell_type": "code",
      "source": [
        "import sqlite3\n",
        "#file_path = '/content/drive/My Drive/state_db/example.db'\n",
        "file_path = '/content/drive/MyDrive/Langchain/state_db/example.db'\n",
        "conn = sqlite3.connect(file_path)"
      ],
      "metadata": {
        "id": "X1UcJioDrlK6"
      },
      "execution_count": null,
      "outputs": []
    },
    {
      "cell_type": "markdown",
      "source": [
        "#When you want to pass your DB file:\n",
        "You need `example.db` as well as `example.db-wal` file to retrieve your previous data.\n",
        "\n",
        "##Sqlite uses these 3 files:\n",
        "\n",
        "<li>example.db\n",
        "<li>example.db-wal\n",
        "<li>example.db-shm\n",
        "\n",
        "How SQLite Uses These Files\n",
        "**`example.db:`** This is the main database file where committed data is stored.\n",
        "\n",
        "`example.db-wal:` If SQLite is in WAL mode, this file temporarily holds changes that have not been checkpointed (written to example.db). SQLite automatically reads from this file when you connect to the database.\n",
        "\n",
        "`example.db-shm:` This file is used for shared memory when multiple connections are accessing the same database. It is a temporary file and does not affect persistence.\n",
        "\n",
        "###Why you need to save example.db-wal file along with example.db file?\n",
        "\n",
        "<li>Uncommitted Changes Are Stored in `example.db-wal:`\n",
        "\n",
        "In WAL mode, SQLite writes all changes to the example.db-wal file instead of directly modifying the main example.db file.\n",
        "These changes are only merged **(checkpointed)** into example.db when a checkpoint operation occurs.\n",
        "If you only copy or use the example.db file without the example.db-wal, any uncommitted changes in the WAL file will be lost.\n",
        "\n",
        "##Ensures Data Consistency:\n",
        "\n",
        "If you transfer the database (example.db) to another system without the `example.db-wal`, the database may appear incomplete or inconsistent if there are pending writes stored in the WAL file.\n",
        "**Concurrent Access:**\n",
        "\n",
        "The WAL file allows multiple processes to read from the database while another process writes to it, without blocking each other. If this feature is in use, the `example.db-wal` file is essential for proper functionality."
      ],
      "metadata": {
        "id": "cpxv-KjVsJse"
      }
    },
    {
      "cell_type": "code",
      "source": [
        "# Here is our checkpointer\n",
        "from langgraph.checkpoint.sqlite import SqliteSaver\n",
        "memory: SqliteSaver = SqliteSaver(conn)"
      ],
      "metadata": {
        "id": "WkG2Aj4HuAfx"
      },
      "execution_count": 8,
      "outputs": []
    },
    {
      "cell_type": "markdown",
      "source": [
        "**Let's re-define our chatbot.**"
      ],
      "metadata": {
        "id": "Ac7zMRRAuHnl"
      }
    },
    {
      "cell_type": "code",
      "source": [
        "from langchain_google_genai import ChatGoogleGenerativeAI\n",
        "from langchain_core.messages import SystemMessage, HumanMessage, RemoveMessage\n",
        "\n",
        "from langgraph.graph import END\n",
        "from langgraph.graph import MessagesState\n",
        "\n",
        "llm: ChatGoogleGenerativeAI = ChatGoogleGenerativeAI(model = \"gemini-1.5-flash\", api_key =  gemini_api_key)\n",
        "\n",
        "class State(MessagesState):\n",
        "    summary: str\n",
        "\n",
        "# Define the logic to call the model\n",
        "def call_model(state: State) -> State:\n",
        "\n",
        "    # Get summary if it exists\n",
        "    summary = state.get(\"summary\", \"\")\n",
        "    print(f\"Using summary: {summary}\")\n",
        "\n",
        "    # If there is summary, then we add it\n",
        "    if summary:\n",
        "\n",
        "        # Add summary to system message\n",
        "        system_message = f\"Summary of conversation earlier: {summary}\"\n",
        "\n",
        "        # Append summary to any newer messages\n",
        "        messages = [SystemMessage(content=system_message)] + state[\"messages\"]\n",
        "\n",
        "    else:\n",
        "        messages = state[\"messages\"]\n",
        "\n",
        "    response = llm.invoke(messages)\n",
        "    return {\"messages\": response}\n",
        "\n",
        "def summarize_conversation(state: State) -> State:\n",
        "    print(f\"Messages before summarizing: {len(state['messages'])}\")\n",
        "    # First, we get any existing summary\n",
        "    summary = state.get(\"summary\", \"\")\n",
        "    print(f\"Existing summary: {summary}\")\n",
        "\n",
        "    # Create our summarization prompt\n",
        "    if summary:\n",
        "\n",
        "        # A summary already exists\n",
        "        summary_message = (\n",
        "            f\"This is summary of the conversation to date: {summary}\\n\\n\"\n",
        "            \"Extend the summary by taking into account the new messages above:\"\n",
        "        )\n",
        "\n",
        "    else:\n",
        "        summary_message = \"Create a summary of the conversation above:\"\n",
        "\n",
        "\n",
        "    # Add prompt to our history\n",
        "    messages = state[\"messages\"] + [HumanMessage(content=summary_message)]\n",
        "    response = llm.invoke(messages)\n",
        "    # Summarization logic\n",
        "    print(f\"New summary: {response.content}\")\n",
        "\n",
        "    # Delete all but the 2 most recent messages\n",
        "    delete_messages = [RemoveMessage(id=m.id) for m in state[\"messages\"][:-2]]\n",
        "\n",
        "    print(f\"Messages after truncation: {len(delete_messages)}\")\n",
        "    return {\"summary\": response.content, \"messages\": delete_messages}\n",
        "\n",
        "# Determine whether to end or summarize the conversation\n",
        "def should_continue(state: State) -> State:\n",
        "\n",
        "    \"\"\"Return the next node to execute.\"\"\"\n",
        "\n",
        "    messages = state[\"messages\"]\n",
        "    print(f\"Message count: {len(messages)}\")\n",
        "    # If there are more than six messages, then we summarize the conversation\n",
        "    if len(messages) > 6:\n",
        "        return \"summarize_conversation\"\n",
        "\n",
        "    # Otherwise we can just end\n",
        "    return END"
      ],
      "metadata": {
        "id": "apWQUtR0uGxY"
      },
      "execution_count": 17,
      "outputs": []
    },
    {
      "cell_type": "markdown",
      "source": [
        "Now, we just re-compile with our sqlite checkpointer."
      ],
      "metadata": {
        "id": "cInC2tNbvVTv"
      }
    },
    {
      "cell_type": "code",
      "source": [
        "from IPython.display import Image, display\n",
        "from langgraph.graph import StateGraph, START\n",
        "from langgraph.graph.state import CompiledStateGraph\n",
        "\n",
        "# Define a new graph\n",
        "workflow: StateGraph = StateGraph(State)\n",
        "workflow.add_node(\"conversation\", call_model)\n",
        "workflow.add_node(summarize_conversation)\n",
        "\n",
        "# Set the entrypoint as conversation\n",
        "workflow.add_edge(START, \"conversation\")\n",
        "workflow.add_conditional_edges(\"conversation\", should_continue)\n",
        "workflow.add_edge(\"summarize_conversation\", END)\n",
        "\n",
        "# Compile\n",
        "graph: CompiledStateGraph = workflow.compile(checkpointer=memory)\n",
        "display(Image(graph.get_graph().draw_mermaid_png()))"
      ],
      "metadata": {
        "colab": {
          "base_uri": "https://localhost:8080/",
          "height": 350
        },
        "id": "ApRwH5j4vSGN",
        "outputId": "2feb9e51-3b6c-4e0f-907a-eb0db5dceccd"
      },
      "execution_count": 18,
      "outputs": [
        {
          "output_type": "display_data",
          "data": {
            "image/png": "[encoded data removed]",
            "text/plain": [
              "<IPython.core.display.Image object>"
            ]
          },
          "metadata": {}
        }
      ]
    },
    {
      "cell_type": "code",
      "source": [
        "# Create a thread\n",
        "config = {\"configurable\": {\"thread_id\": \"2\"}}\n",
        "\n",
        "# Start conversation\n",
        "input_message = HumanMessage(content=\"I would like to know about football.\")\n",
        "output = graph.invoke({\"messages\": [input_message]}, config)\n",
        "for m in output['messages'][-1:]:\n",
        "    m.pretty_print()"
      ],
      "metadata": {
        "colab": {
          "base_uri": "https://localhost:8080/"
        },
        "id": "AUJwufbdvj3y",
        "outputId": "5bafdc3d-6839-4fb9-b818-1660bff04111"
      },
      "execution_count": 19,
      "outputs": [
        {
          "output_type": "stream",
          "name": "stdout",
          "text": [
            "Using summary: \n",
            "Message count: 4\n",
            "==================================\u001b[1m Ai Message \u001b[0m==================================\n",
            "\n",
            "To tell you about football, I need to know *which* football you mean.  There are several codes of football, each with its own rules and style of play.  The most popular are:\n",
            "\n",
            "* **American Football:** Played primarily in the United States and Canada, this is a high-scoring, contact sport played with an oval-shaped ball.  Teams try to advance the ball down the field by running or passing, aiming to score touchdowns.  It's characterized by specialized positions, strategic plays, and significant use of protective equipment.\n",
            "\n",
            "* **Association Football (Soccer):** This is the most popular sport globally.  Played with a round ball, two teams try to score by kicking the ball into the opposing team's goal.  It emphasizes speed, skill, and teamwork, with fewer specialized positions than American football.\n",
            "\n",
            "* **Rugby Union and Rugby League:** These are both contact sports played with an oval-shaped ball.  Players try to advance the ball by running, kicking, or passing.  Both involve tackling and scrums, but they have different rule sets and styles of play.  Rugby Union is generally considered more open and less structured than Rugby League.\n",
            "\n",
            "* **Australian Rules Football (Aussie Rules):** A unique Australian sport played with an oval-shaped ball.  It's a high-scoring, running game with a focus on kicking and marking the ball.  The rules are quite complex and different from other football codes.\n",
            "\n",
            "* **Gaelic Football:**  A fast-paced Irish sport, also played with an oval ball.  It involves a mix of running, kicking, and hand-passing.  Similar to Aussie Rules in some respects, but with its own distinctive rules and style.\n",
            "\n",
            "\n",
            "To give you a useful answer, please specify which type of football you're interested in.  Then I can provide information on its rules, history, prominent teams and players, and more.\n"
          ]
        }
      ]
    },
    {
      "cell_type": "markdown",
      "source": [
        "Now, we just re-compile with our sqlite checkpointer."
      ],
      "metadata": {
        "id": "BZFULWjDyMWb"
      }
    },
    {
      "cell_type": "code",
      "source": [
        "from IPython.display import Image, display\n",
        "from langgraph.graph import StateGraph, START\n",
        "from langgraph.graph.state import CompiledStateGraph\n",
        "\n",
        "# Define a new graph\n",
        "workflow: StateGraph = StateGraph(State)\n",
        "workflow.add_node(\"conversation\", call_model)\n",
        "workflow.add_node(summarize_conversation)\n",
        "\n",
        "# Set the entrypoint as conversation\n",
        "workflow.add_edge(START, \"conversation\")\n",
        "workflow.add_conditional_edges(\"conversation\", should_continue)\n",
        "workflow.add_edge(\"summarize_conversation\", END)\n",
        "\n",
        "# Compile\n",
        "graph: CompiledStateGraph = workflow.compile(checkpointer=memory)\n",
        "display(Image(graph.get_graph().draw_mermaid_png()))"
      ],
      "metadata": {
        "colab": {
          "base_uri": "https://localhost:8080/",
          "height": 350
        },
        "id": "AT6pLJN6yN0G",
        "outputId": "b287ce71-66a9-4790-a971-7dec6d40e151"
      },
      "execution_count": 20,
      "outputs": [
        {
          "output_type": "display_data",
          "data": {
            "image/png": "[encoded data removed]",
            "text/plain": [
              "<IPython.core.display.Image object>"
            ]
          },
          "metadata": {}
        }
      ]
    },
    {
      "cell_type": "code",
      "source": [
        "# Create a thread\n",
        "config = {\"configurable\": {\"thread_id\": \"2\"}}\n",
        "\n",
        "# Start conversation\n",
        "input_message = HumanMessage(content=\"I would like to know about cricket.\")\n",
        "output = graph.invoke({\"messages\": [input_message]}, config)\n",
        "for m in output['messages'][-1:]:\n",
        "    m.pretty_print()"
      ],
      "metadata": {
        "colab": {
          "base_uri": "https://localhost:8080/"
        },
        "id": "7n8FOzxLyyLj",
        "outputId": "ebaea925-3909-4aa2-8b83-19718962d7e9"
      },
      "execution_count": 21,
      "outputs": [
        {
          "output_type": "stream",
          "name": "stdout",
          "text": [
            "Using summary: \n",
            "Message count: 6\n",
            "==================================\u001b[1m Ai Message \u001b[0m==================================\n",
            "\n",
            "Cricket is a bat-and-ball game played between two teams of eleven players on a field at the centre of which is a 22-yard pitch with a wicket at each end.  It's a complex game with a rich history and many nuances, but here's a breakdown of the basics:\n",
            "\n",
            "**The Basics:**\n",
            "\n",
            "* **The Objective:**  The batting team aims to score runs, while the bowling team aims to prevent this and dismiss (get out) the batsmen.\n",
            "\n",
            "* **The Pitch:**  The pitch is the rectangular area in the center of the field where most of the action takes place.  It's carefully prepared and its condition significantly impacts the game.\n",
            "\n",
            "* **The Wicket:**  Each wicket consists of three wooden stumps with two small bails balanced on top.  Dismissing a batsman involves hitting the wicket with the ball.\n",
            "\n",
            "* **The Bat:**  A flat-bladed bat made of wood, used by the batsman to hit the ball.\n",
            "\n",
            "* **The Ball:**  A hard, leather-covered ball.\n",
            "\n",
            "* **The Innings:**  A team's turn to bat.  An innings can last for a set number of overs (a set of six legal deliveries bowled by a single bowler) or until all batsmen are dismissed.\n",
            "\n",
            "* **Scoring Runs:**  Runs are scored by:\n",
            "    * **Hitting the ball and running between the wickets:**  Batsmen run back and forth between the wickets after hitting the ball.  Each completed run counts as one run.\n",
            "    * **Hitting boundaries:**  If the ball reaches the boundary rope after being hit, four runs are scored (if it bounces before reaching the boundary) or six runs (if it goes directly over the boundary).\n",
            "    * **Extras:**  Runs awarded to the batting team due to errors by the bowling team (e.g., wides, no-balls).\n",
            "\n",
            "* **Dismissals (Ways to get a batsman out):**  There are several ways a batsman can be dismissed, including:\n",
            "    * **Bowled:**  The ball hits the wicket directly from the bowler's delivery.\n",
            "    * **Caught:**  A fielder catches the ball after it's been hit by the bat, without it bouncing.\n",
            "    * **Leg Before Wicket (LBW):**  The ball would have hit the wicket, but the batsman's leg obstructed it.\n",
            "    * **Run out:**  A fielder hits the wicket with the ball while a batsman is out of his crease and attempting a run.\n",
            "    * **Stumped:**  The wicket-keeper (a specialized fielder) hits the wicket with the ball while the batsman is out of his crease and not attempting a run.\n",
            "\n",
            "\n",
            "**Different Formats:**\n",
            "\n",
            "Cricket has several formats, each with its own time constraints and rules:\n",
            "\n",
            "* **Test Matches:**  The longest format, played over five days.  This format emphasizes technical skill and endurance.\n",
            "* **One Day Internationals (ODIs):**  Each team has 50 overs to bat.\n",
            "* **Twenty20 (T20):**  The shortest format, each team has 20 overs to bat.  This format is known for its fast-paced action and aggressive batting.\n",
            "\n",
            "\n",
            "This is a simplified overview.  The intricacies of cricket are vast and require significant study to fully understand.  If you have specific questions about any aspect of the game, feel free to ask!\n"
          ]
        }
      ]
    },
    {
      "cell_type": "code",
      "source": [
        "input_message = HumanMessage(content=\"what's my name?\")\n",
        "output = graph.invoke({\"messages\": [input_message]}, config)\n",
        "for m in output['messages'][-1:]:\n",
        "    m.pretty_print()"
      ],
      "metadata": {
        "colab": {
          "base_uri": "https://localhost:8080/"
        },
        "id": "ZFgFlC9hzV0v",
        "outputId": "9f86885f-7435-4bb3-8ade-b4082274e499"
      },
      "execution_count": 22,
      "outputs": [
        {
          "output_type": "stream",
          "name": "stdout",
          "text": [
            "Using summary: \n",
            "Message count: 8\n",
            "Messages before summarizing: 8\n",
            "Existing summary: \n",
            "New summary: The conversation began with the user asking for information about \"football,\" which led to a clarification that there are many types of football (American, soccer, rugby, Australian Rules, Gaelic).  After specifying their interest in \"cricket,\" a detailed explanation of the game's basics, including scoring, dismissals, and different formats (Test matches, ODIs, T20), was provided.  The conversation concluded with the user asking for their name, to which the AI responded that it doesn't have access to personal information.\n",
            "\n",
            "Messages after truncation: 6\n",
            "==================================\u001b[1m Ai Message \u001b[0m==================================\n",
            "\n",
            "I do not know your name.  I have no access to personal information about you unless you explicitly provide it to me.\n"
          ]
        }
      ]
    }
  ]
}