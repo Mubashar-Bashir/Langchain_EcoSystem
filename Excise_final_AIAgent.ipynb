{
  "nbformat": 4,
  "nbformat_minor": 0,
  "metadata": {
    "colab": {
      "provenance": [],
      "authorship_tag": "ABX9TyMRtaQ7NZJYE2EROqSconcT",
      "include_colab_link": true
    },
    "kernelspec": {
      "name": "python3",
      "display_name": "Python 3"
    },
    "language_info": {
      "name": "python"
    }
  },
  "cells": [
    {
      "cell_type": "markdown",
      "metadata": {
        "id": "view-in-github",
        "colab_type": "text"
      },
      "source": [
        "<a href=\"https://colab.research.google.com/github/Mubashar-Bashir/Langchain_EcoSystem/blob/main/Excise_final_AIAgent.ipynb\" target=\"_parent\"><img src=\"https://colab.research.google.com/assets/colab-badge.svg\" alt=\"Open In Colab\"/></a>"
      ]
    },
    {
      "cell_type": "code",
      "execution_count": 1,
      "metadata": {
        "id": "aqj3_yDTvyf4"
      },
      "outputs": [],
      "source": [
        "# prompt: pip install langchain, langraph, google_genai, !pip install requests beautifulsoup4\n",
        "%%capture --no-stderr\n",
        "!pip install  -q -U  langchain , langchain_core\n",
        "!pip install  -q -U langgraph\n",
        "!pip install -q -U langchain-google-genai\n",
        "#!pip install -q -U requests beautifulsoup4\n"
      ]
    },
    {
      "cell_type": "code",
      "source": [
        "from google.colab import userdata\n",
        "GEMINI_API_KEY = userdata.get('Gemini-key')\n",
        "LANGCHAIN_API_KEY = userdata.get('LANGCHAIN_API_KEY')"
      ],
      "metadata": {
        "id": "Kqd4qVna0QsO"
      },
      "execution_count": 2,
      "outputs": []
    },
    {
      "cell_type": "code",
      "source": [
        "from langchain_google_genai import ChatGoogleGenerativeAI\n",
        "\n",
        "# Initialize an instance of the ChatGoogleGenerativeAI with specific parameters\n",
        "llm: ChatGoogleGenerativeAI = ChatGoogleGenerativeAI(\n",
        "    model=\"gemini-1.5-flash\",  # Specify the model to use\n",
        "    api_key=GEMINI_API_KEY,     # Provide the Google API key for authentication\n",
        ")"
      ],
      "metadata": {
        "id": "x1P-dz750ug-"
      },
      "execution_count": 4,
      "outputs": []
    },
    {
      "cell_type": "code",
      "source": [
        "# Excis & Taxation Basic state prompt_query , sentiment, department\n",
        "from typing_extensions import TypedDict, Literal\n",
        "\n",
        "class State(TypedDict):\n",
        "    query: str  # User's input query\n",
        "    category: Literal[\"MVR\", \"UIPT\", \"Prof Tax\", \"HIPT\", \"Excise-Duty\", \"Cotton_Fee\", \"General\"]\n",
        "    # The specific category selected for handling the query\n",
        "    department: list[str]  # Departments relevant to the query or response\n",
        "    summary: str  # Summarized conversation for reducing token usage\n",
        "    messages: list  # Full list of messages for maintaining context\n",
        "\n"
      ],
      "metadata": {
        "id": "KfZEZktM1XBm"
      },
      "execution_count": 5,
      "outputs": []
    },
    {
      "cell_type": "code",
      "source": [
        "# Sample configuration for the checkpointer (if you need to persist state)\n",
        "config = {\n",
        "    \"thread_id\": \"test_thread\",  # Unique thread identifier\n",
        "    \"checkpoint_ns\": \"test_ns\",  # Namespace for the checkpoint\n",
        "    \"checkpoint_id\": \"test_checkpoint\",  # Unique checkpoint identifier\n",
        "}\n",
        "\n",
        "# compiled_graph = builder.compile(checkpointer=memory, config=config)"
      ],
      "metadata": {
        "id": "QeeFWoKvxM24"
      },
      "execution_count": 56,
      "outputs": []
    },
    {
      "cell_type": "code",
      "source": [
        "from langgraph.checkpoint.memory import MemorySaver\n",
        "from langgraph.graph.state import StateGraph\n",
        "\n",
        "\n",
        "memory: MemorySaver = MemorySaver()\n",
        "# react_graph_memory: CompiledStateGraph = builder.compile(checkpointer=memory)\n",
        "\n",
        "# Define the categorization function\n",
        "def categorize_with_memory(state: State) -> State:\n",
        "    \"\"\"Categorize the customer query into predefined categories using structured output.\"\"\"\n",
        "    # Extract query\n",
        "    query = state[\"query\"]\n",
        "\n",
        "    # Retrieve previous memory (if any)\n",
        "    previous_memory = memory.get(\"conversation_memory\", None)\n",
        "\n",
        "    # If memory exists, append it to the current query for context\n",
        "    if previous_memory:\n",
        "        query = previous_memory + \" \" + query\n",
        "\n",
        "    # Categorize the query\n",
        "    category = categorize(state)  # This is a previously defined method\n",
        "    state[\"category\"] = category[\"category\"]\n",
        "\n",
        "    # Save the new memory (current state) for future use\n",
        "    memory.set(\"conversation_memory\", query)\n",
        "\n",
        "    return state"
      ],
      "metadata": {
        "id": "5MlERgPvRpBR"
      },
      "execution_count": 69,
      "outputs": []
    },
    {
      "cell_type": "code",
      "source": [
        "from typing import Literal\n",
        "from langchain.prompts import ChatPromptTemplate\n",
        "\n",
        "# Define the categorize function\n",
        "def categorize(state: State) -> State:\n",
        "    \"\"\"\n",
        "    Categorize the customer query into predefined categories using structured output.\n",
        "    Categories: [\"MVR\", \"UIPT\", \"Prof Tax\", \"HIPT\", \"Excise-Duty\", \"Cotton_Fee\", \"General\"]\n",
        "    \"\"\"\n",
        "    # Define the schema for structured output using Literal\n",
        "    schema = {\n",
        "        \"category\": Literal[\n",
        "            \"MVR\", \"UIPT\", \"Prof Tax\", \"HIPT\", \"Excise-Duty\", \"Cotton_Fee\", \"General\"\n",
        "        ]\n",
        "    }\n",
        "\n",
        "    # Create the LLM with structured output capability\n",
        "    structured_llm = llm.with_structured_output(schema)\n",
        "\n",
        "    # Define the prompt template\n",
        "    prompt_template = ChatPromptTemplate.from_template(\n",
        "        \"Categorize the following customer query into one of these categories: \"\n",
        "        \"MVR, UIPT, Prof Tax, HIPT, Excise-Duty, Cotton_Fee, General.\\n\"\n",
        "        \"Query: {query}\"\n",
        "    )\n",
        "\n",
        "    # Format the prompt with the user's query\n",
        "    prompt = prompt_template.format(query=state[\"query\"])\n",
        "    print('Prompt Format with User Query')\n",
        "    # Invoke the structured LLM with the prompt\n",
        "    response = structured_llm.invoke(prompt)\n",
        "\n",
        "    # Update the state with the structured category result\n",
        "    state[\"category\"] = response.category\n",
        "    # state[\"department\"] = response.category\n",
        "\n",
        "    return state\n"
      ],
      "metadata": {
        "id": "haDtdtMY_9x7"
      },
      "execution_count": 70,
      "outputs": []
    },
    {
      "cell_type": "code",
      "source": [
        "\n",
        "\n",
        "# Step 2: Add Tools (Placeholder Functions for Excise Tasks)\n",
        "def vehicle_verification(vehicle_Reg_no: str) -> str:\n",
        "    \"\"\"Verify vehicle registration.\"\"\"\n",
        "    return f\"Vehicle {vehicle_Reg_no} is verified.\"\n",
        "\n",
        "def calculate_tax(invoice_value: float) -> str:\n",
        "    \"\"\"Calculate tax.\"\"\"\n",
        "    return f\"The tax on {invoice_value} is {invoice_value * 0.1}.\"\n",
        "\n",
        "tools = [vehicle_verification, calculate_tax]\n",
        "\n",
        "# Bind Tools to LLM\n",
        "llm_with_tools = llm.bind_tools(tools)"
      ],
      "metadata": {
        "id": "NTHRDUSGa2Ap"
      },
      "execution_count": 71,
      "outputs": []
    },
    {
      "cell_type": "code",
      "source": [
        "\n",
        "# Assuming `categorize` and other parts are already implemented\n",
        "\n",
        "# Create additional nodes for each category\n",
        "def mvr_handler(state: State) -> State:\n",
        "    \"\"\"Handle MVR-related queries\"\"\"\n",
        "    state[\"response\"] = \"This is the MVR response.\"\n",
        "    return state\n",
        "\n",
        "def uipt_handler(state: State) -> State:\n",
        "    \"\"\"Handle UIPT-related queries\"\"\"\n",
        "    state[\"response\"] = \"This is the UIPT/ Urban Immoveble Property Tax response.\"\n",
        "    return state\n",
        "\n",
        "def hipt_handler(state: State) -> State:\n",
        "    \"\"\"Handle HIPT-related queries\"\"\"\n",
        "    state[\"response\"] = \"This is the (Highway Immoveable Property Tax)HIPT response.\"\n",
        "    return state\n",
        "\n",
        "def prof_tax_handler(state: State) -> State:\n",
        "    \"\"\"Handle Professional Tax-related queries\"\"\"\n",
        "    state[\"response\"] = \"This is the Professional Tax response.\"\n",
        "    return state\n",
        "\n",
        "def excise_duty_handler(state: State) -> State:\n",
        "    \"\"\"Handle Excise Duty-related queries\"\"\"\n",
        "    state[\"response\"] = \"This is the Excise Duty response.\"\n",
        "    return state\n",
        "\n",
        "def cotton_fee_handler(state: State) -> State:\n",
        "    \"\"\"Handle Cotton Fee-related queries\"\"\"\n",
        "    state[\"response\"] = \"This is the Cotton Fee response.\"\n",
        "    return state\n",
        "\n",
        "def general_handler(state: State) -> State:\n",
        "    \"\"\"Handle General queries\"\"\"\n",
        "    state[\"response\"] = \"This is the General Excise response.\"\n",
        "    return state\n"
      ],
      "metadata": {
        "id": "cItSWtpYOV4-"
      },
      "execution_count": 72,
      "outputs": []
    },
    {
      "cell_type": "code",
      "source": [
        "\n",
        "# Define a conditional node that routes based on the category\n",
        "def category_routing(state: State) -> str:\n",
        "    \"\"\"Route based on the extracted category.\"\"\"\n",
        "    category = state[\"category\"]\n",
        "\n",
        "    # Conditional Routing: if category is related to Excise or specific taxes, route to ExciseAgent\n",
        "    if category in [\"MVR\", \"UIPT\", \"Prof Tax\", \"HIPT\", \"Excise-Duty\", \"Cotton_Fee\", \"General\"]:\n",
        "        return \"excise_agent\"\n",
        "\n",
        "    # Handle other categories, like MVR, UIPT, General, etc.\n",
        "    elif category == \"General\":\n",
        "        return \"general_agent\"\n",
        "\n",
        "    return END\n"
      ],
      "metadata": {
        "id": "0K9Nv8P3UDGj"
      },
      "execution_count": 73,
      "outputs": []
    },
    {
      "cell_type": "code",
      "source": [
        "from langchain_core.messages import HumanMessage, SystemMessage\n",
        "# from langchain_tools import excise_tax_tool, vehicle_verification_tool\n",
        "\n",
        "# Define the Excise Agent node\n",
        "def excise_agent(state: State) -> State:\n",
        "    \"\"\"Handle Excise-specific queries such as Excise-Duty and Cotton_Fee.\"\"\"\n",
        "\n",
        "    category = state[\"category\"]\n",
        "\n",
        "    # Check if it's Excise-Duty or Cotton_Fee\n",
        "    if category == \"Excise-Duty\":\n",
        "        system_message = SystemMessage(content=\"You are an expert on Excise & Taxation Punjab Excise-Duty. Assist with tax calculations, exemptions, and related queries.\")\n",
        "        # You can use your own tools here (e.g., excise_tax_tool, vehicle_verification_tool, etc.)\n",
        "        response = llm_with_tools.invoke(state[\"query\"])\n",
        "\n",
        "    elif category == \"Cotton_Fee\":\n",
        "        system_message = SystemMessage(content=\"You are an expert in Cotton Fee taxation. Answer queries about cotton fees and related regulations.\")\n",
        "        # Use tools for Cotton Fee calculation if applicable\n",
        "        response = llm_with_tools.invoke(state[\"query\"])\n",
        "\n",
        "    else:\n",
        "        system_message = SystemMessage(content=\"Excise-related queries are being handled. Please specify your query more clearly.\")\n",
        "        response = \"Please specify more clearly for Excise related queries.\"\n",
        "\n",
        "    # Update state with response\n",
        "    state[\"response\"] = response\n",
        "    return state"
      ],
      "metadata": {
        "id": "ChVJ4NH1B4bP"
      },
      "execution_count": 74,
      "outputs": []
    },
    {
      "cell_type": "code",
      "source": [
        "\n",
        "# Define the General Agent node\n",
        "def general_agent(state: State) -> State:\n",
        "    \"\"\"Handle General queries not related to specific categories.\"\"\"\n",
        "\n",
        "    # Create a system message to set the context for general queries\n",
        "    system_message = SystemMessage(content=\"You are a general assistant helping with a wide variety of Excise & Taxation queries.\")\n",
        "\n",
        "    # Process the user's general query\n",
        "    response = llm.invoke(state[\"query\"])\n",
        "\n",
        "    # Update state with the response\n",
        "    state[\"response\"] = response\n",
        "    return state"
      ],
      "metadata": {
        "id": "PZgLXJZmX9GT"
      },
      "execution_count": 75,
      "outputs": []
    },
    {
      "cell_type": "code",
      "source": [
        "from langgraph.graph import StateGraph, START, END\n",
        "from langgraph.graph.state import CompiledStateGraph\n",
        "\n",
        "\n",
        "# Create the workflow graph\n",
        "builder: StateGraph = StateGraph(State)\n",
        "\n",
        "# Add Nodes\n",
        "builder.add_node(\"categorize\", categorize_with_memory)\n",
        "builder.add_node(\"category_routing\", category_routing)\n",
        "builder.add_node(\"excise_agent\", excise_agent)\n",
        "builder.add_node(\"general_agent\", general_agent)\n",
        "builder.add_node(\"mvr_handler\", mvr_handler)\n",
        "builder.add_node(\"uipt_handler\", uipt_handler)\n",
        "builder.add_node(\"hipt_handler\", hipt_handler)\n",
        "builder.add_node(\"prof_tax_handler\", prof_tax_handler)\n",
        "builder.add_node(\"cotton_fee_handler\", cotton_fee_handler)\n",
        "# builder.add_node(\"vehicle_verification_agent\", vehicle_verification_agent)\n",
        "# builder.add_node(\"calculate_tax_agent\", calculate_tax_agent)\n",
        "\n",
        "\n",
        "# Define the routing from Categorize → Routing → Agent (based on category)\n",
        "# builder.add_edge(\"categorize\", \"category_routing\")  # Categorize → Category Routing\n",
        "# builder.add_conditional_edges(\"category_routing\", lambda state: state[\"category\"] == \"Excise-Duty\", \"general_agent\")\n",
        "# builder.add_conditional_edges(\"category_routing\", lambda state: state[\"category\"] == \"General\", \"general_agent\")\n",
        "# builder.add_conditional_edges(\"category_routing\", lambda state: state[\"category\"] == \"MVR\", \"mvr_handler\")\n",
        "# builder.add_conditional_edges(\"category_routing\", lambda state: state[\"category\"] == \"UIPT\", \"uipt_handler\")\n",
        "# builder.add_conditional_edges(\"category_routing\", lambda state: state[\"category\"] == \"Prof Tax\", \"prof_tax_handler\")\n",
        "# builder.add_conditional_edges(\"category_routing\", lambda state: state[\"category\"] == \"HIPT\", \"hipt_handler\")\n",
        "# builder.add_conditional_edges(\"category_routing\", lambda state: state[\"category\"] == \"Cotton_Fee\", \"cotton_fee_handler\")\n",
        "\n",
        "# Define the routing from Categorize → Routing → Agent (based on category)\n",
        "builder.add_edge(START,\"categorize\")\n",
        "builder.add_edge(\"categorize\", \"category_routing\")  # Categorize → Category Routing\n",
        "\n",
        "# Ensure unique conditions or condition names\n",
        "# Ensure unique path names for each condition\n",
        "# Define the category_routing function for routing based on categories\n",
        "def category_routing(state: State) -> str:\n",
        "    \"\"\"Route based on the extracted category.\"\"\"\n",
        "    category = state[\"category\"]\n",
        "\n",
        "    # Conditional Routing: Based on the category, return corresponding agent name\n",
        "    if category == \"Excise-Duty\":\n",
        "        return \"excise_agent\"\n",
        "    elif category == \"General\":\n",
        "        return \"general_agent\"\n",
        "    elif category == \"MVR\":\n",
        "        return \"mvr_agent\"\n",
        "    elif category == \"UIPT\":\n",
        "        return \"uipt_agent\"\n",
        "    elif category == \"Prof Tax\":\n",
        "        return \"prof_tax_agent\"\n",
        "    elif category == \"HIPT\":\n",
        "        return \"hipt_agent\"\n",
        "    elif category == \"Cotton_Fee\":\n",
        "        return \"cotton_fee_agent\"\n",
        "\n",
        "    # Default: No category matches\n",
        "    return \"no_matching_agent\"\n",
        "\n",
        "\n",
        "builder.add_conditional_edges(\n",
        "    \"category_routing\",\n",
        "    lambda state: state[\"category\"] not in [\"Excise-Duty\", \"General\", \"MVR\", \"UIPT\", \"Prof Tax\", \"HIPT\", \"Cotton_Fee\"],\n",
        "    \"no_matching_handler\"\n",
        ")\n",
        "\n",
        "# Optional: Add additional conditions if needed\n",
        "\n",
        "\n",
        "# Define End State (final node)\n",
        "builder.add_edge(\"excise_agent\", END)\n",
        "builder.add_edge(\"general_agent\", END)\n",
        "builder.add_edge(\"mvr_handler\", END)\n",
        "builder.add_edge(\"uipt_handler\", END)\n",
        "builder.add_edge(\"prof_tax_handler\", END)\n",
        "builder.add_edge(\"hipt_handler\", END)\n",
        "builder.add_edge(\"cotton_fee_handler\", END)\n",
        "\n"
      ],
      "metadata": {
        "colab": {
          "base_uri": "https://localhost:8080/"
        },
        "id": "TVgX5Uswf2-N",
        "outputId": "1943e01e-ce9b-4b67-bd33-cc0380f3b14e"
      },
      "execution_count": 76,
      "outputs": [
        {
          "output_type": "execute_result",
          "data": {
            "text/plain": [
              "<langgraph.graph.state.StateGraph at 0x7c178c6c5c90>"
            ]
          },
          "metadata": {},
          "execution_count": 76
        }
      ]
    },
    {
      "cell_type": "code",
      "source": [
        "# Sample configuration for the checkpointer (if you need to persist state)\n",
        "config = {\n",
        "    \"thread_id\": \"test_thread\",  # Unique thread identifier\n",
        "    \"checkpoint_ns\": \"test_ns\",  # Namespace for the checkpoint\n",
        "    \"checkpoint_id\": \"test_checkpoint\",  # Unique checkpoint identifier\n",
        "}\n",
        "\n",
        "compiled_graph = builder.compile(checkpointer=memory)"
      ],
      "metadata": {
        "id": "Zy1zkh_ywkLz"
      },
      "execution_count": 77,
      "outputs": []
    },
    {
      "cell_type": "code",
      "source": [
        "from IPython.display import display, Image\n",
        "from langchain_core.runnables.graph import MermaidDrawMethod\n",
        "display(\n",
        "    Image(\n",
        "        compiled_graph.get_graph().draw_mermaid_png(\n",
        "            draw_method=MermaidDrawMethod.API,\n",
        "        )\n",
        "    )\n",
        ")"
      ],
      "metadata": {
        "colab": {
          "base_uri": "https://localhost:8080/",
          "height": 268
        },
        "id": "PRb9bDPdrU__",
        "outputId": "34b3f231-b833-4716-ea83-645f72596375"
      },
      "execution_count": 78,
      "outputs": [
        {
          "output_type": "display_data",
          "data": {
            "image/png": "[encoded data removed]",
            "text/plain": [
              "<IPython.core.display.Image object>"
            ]
          },
          "metadata": {}
        }
      ]
    },
    {
      "cell_type": "code",
      "source": [
        "# Define your sample state\n",
        "sample_state = {\n",
        "    \"query\": \"Hi\",  # User starts with \"Hi\"\n",
        "    # \"category\": \"General\",  # Initially set to \"General\"\n",
        "    # \"department\": [],\n",
        "    # \"summary\": \"\",\n",
        "    # \"messages\": [],\n",
        "}"
      ],
      "metadata": {
        "id": "33GnpiiqvoRL"
      },
      "execution_count": 79,
      "outputs": []
    },
    {
      "cell_type": "code",
      "source": [
        "\n",
        "# Example of invoking the workflow\n",
        "test_query = \"How can I calculate Excise Duty on my vehicle?\"\n",
        "# test_state = {\"query\": test_query, \"category\": \"\", \"department\": [], \"summary\": \"\", \"messages\": []}\n",
        "result = compiled_graph.invoke(sample_state)\n",
        "\n",
        "# Print out the result\n",
        "for message in result[\"messages\"]:\n",
        "    print(message.content)"
      ],
      "metadata": {
        "colab": {
          "base_uri": "https://localhost:8080/",
          "height": 426
        },
        "id": "PzHCf2G-krz-",
        "outputId": "e85f7df7-0fd3-43b3-ece9-4951e3ca8aec"
      },
      "execution_count": 81,
      "outputs": [
        {
          "output_type": "error",
          "ename": "ValueError",
          "evalue": "Checkpointer requires one or more of the following 'configurable' keys: ['thread_id', 'checkpoint_ns', 'checkpoint_id']",
          "traceback": [
            "\u001b[0;31m---------------------------------------------------------------------------\u001b[0m",
            "\u001b[0;31mValueError\u001b[0m                                Traceback (most recent call last)",
            "\u001b[0;32m<ipython-input-81-5ae3c0223d17>\u001b[0m in \u001b[0;36m<cell line: 4>\u001b[0;34m()\u001b[0m\n\u001b[1;32m      2\u001b[0m \u001b[0mtest_query\u001b[0m \u001b[0;34m=\u001b[0m \u001b[0;34m\"How can I calculate Excise Duty on my vehicle?\"\u001b[0m\u001b[0;34m\u001b[0m\u001b[0;34m\u001b[0m\u001b[0m\n\u001b[1;32m      3\u001b[0m \u001b[0;31m# test_state = {\"query\": test_query, \"category\": \"\", \"department\": [], \"summary\": \"\", \"messages\": []}\u001b[0m\u001b[0;34m\u001b[0m\u001b[0;34m\u001b[0m\u001b[0m\n\u001b[0;32m----> 4\u001b[0;31m \u001b[0mresult\u001b[0m \u001b[0;34m=\u001b[0m \u001b[0mcompiled_graph\u001b[0m\u001b[0;34m.\u001b[0m\u001b[0minvoke\u001b[0m\u001b[0;34m(\u001b[0m\u001b[0msample_state\u001b[0m\u001b[0;34m)\u001b[0m\u001b[0;34m\u001b[0m\u001b[0;34m\u001b[0m\u001b[0m\n\u001b[0m\u001b[1;32m      5\u001b[0m \u001b[0;34m\u001b[0m\u001b[0m\n\u001b[1;32m      6\u001b[0m \u001b[0;31m# Print out the result\u001b[0m\u001b[0;34m\u001b[0m\u001b[0;34m\u001b[0m\u001b[0m\n",
            "\u001b[0;32m/usr/local/lib/python3.10/dist-packages/langgraph/pregel/__init__.py\u001b[0m in \u001b[0;36minvoke\u001b[0;34m(self, input, config, stream_mode, output_keys, interrupt_before, interrupt_after, debug, **kwargs)\u001b[0m\n\u001b[1;32m   1927\u001b[0m         \u001b[0;32melse\u001b[0m\u001b[0;34m:\u001b[0m\u001b[0;34m\u001b[0m\u001b[0;34m\u001b[0m\u001b[0m\n\u001b[1;32m   1928\u001b[0m             \u001b[0mchunks\u001b[0m \u001b[0;34m=\u001b[0m \u001b[0;34m[\u001b[0m\u001b[0;34m]\u001b[0m\u001b[0;34m\u001b[0m\u001b[0;34m\u001b[0m\u001b[0m\n\u001b[0;32m-> 1929\u001b[0;31m         for chunk in self.stream(\n\u001b[0m\u001b[1;32m   1930\u001b[0m             \u001b[0minput\u001b[0m\u001b[0;34m,\u001b[0m\u001b[0;34m\u001b[0m\u001b[0;34m\u001b[0m\u001b[0m\n\u001b[1;32m   1931\u001b[0m             \u001b[0mconfig\u001b[0m\u001b[0;34m,\u001b[0m\u001b[0;34m\u001b[0m\u001b[0;34m\u001b[0m\u001b[0m\n",
            "\u001b[0;32m/usr/local/lib/python3.10/dist-packages/langgraph/pregel/__init__.py\u001b[0m in \u001b[0;36mstream\u001b[0;34m(self, input, config, stream_mode, output_keys, interrupt_before, interrupt_after, debug, subgraphs)\u001b[0m\n\u001b[1;32m   1578\u001b[0m                 \u001b[0mcheckpointer\u001b[0m\u001b[0;34m,\u001b[0m\u001b[0;34m\u001b[0m\u001b[0;34m\u001b[0m\u001b[0m\n\u001b[1;32m   1579\u001b[0m                 \u001b[0mstore\u001b[0m\u001b[0;34m,\u001b[0m\u001b[0;34m\u001b[0m\u001b[0;34m\u001b[0m\u001b[0m\n\u001b[0;32m-> 1580\u001b[0;31m             \u001b[0;34m)\u001b[0m \u001b[0;34m=\u001b[0m \u001b[0mself\u001b[0m\u001b[0;34m.\u001b[0m\u001b[0m_defaults\u001b[0m\u001b[0;34m(\u001b[0m\u001b[0;34m\u001b[0m\u001b[0;34m\u001b[0m\u001b[0m\n\u001b[0m\u001b[1;32m   1581\u001b[0m                 \u001b[0mconfig\u001b[0m\u001b[0;34m,\u001b[0m\u001b[0;34m\u001b[0m\u001b[0;34m\u001b[0m\u001b[0m\n\u001b[1;32m   1582\u001b[0m                 \u001b[0mstream_mode\u001b[0m\u001b[0;34m=\u001b[0m\u001b[0mstream_mode\u001b[0m\u001b[0;34m,\u001b[0m\u001b[0;34m\u001b[0m\u001b[0;34m\u001b[0m\u001b[0m\n",
            "\u001b[0;32m/usr/local/lib/python3.10/dist-packages/langgraph/pregel/__init__.py\u001b[0m in \u001b[0;36m_defaults\u001b[0;34m(self, config, stream_mode, output_keys, interrupt_before, interrupt_after, debug)\u001b[0m\n\u001b[1;32m   1446\u001b[0m             \u001b[0mcheckpointer\u001b[0m \u001b[0;34m=\u001b[0m \u001b[0mself\u001b[0m\u001b[0;34m.\u001b[0m\u001b[0mcheckpointer\u001b[0m\u001b[0;34m\u001b[0m\u001b[0;34m\u001b[0m\u001b[0m\n\u001b[1;32m   1447\u001b[0m         \u001b[0;32mif\u001b[0m \u001b[0mcheckpointer\u001b[0m \u001b[0;32mand\u001b[0m \u001b[0;32mnot\u001b[0m \u001b[0mconfig\u001b[0m\u001b[0;34m.\u001b[0m\u001b[0mget\u001b[0m\u001b[0;34m(\u001b[0m\u001b[0mCONF\u001b[0m\u001b[0;34m)\u001b[0m\u001b[0;34m:\u001b[0m\u001b[0;34m\u001b[0m\u001b[0;34m\u001b[0m\u001b[0m\n\u001b[0;32m-> 1448\u001b[0;31m             raise ValueError(\n\u001b[0m\u001b[1;32m   1449\u001b[0m                 \u001b[0;34mf\"Checkpointer requires one or more of the following 'configurable' keys: {[s.id for s in checkpointer.config_specs]}\"\u001b[0m\u001b[0;34m\u001b[0m\u001b[0;34m\u001b[0m\u001b[0m\n\u001b[1;32m   1450\u001b[0m             )\n",
            "\u001b[0;31mValueError\u001b[0m: Checkpointer requires one or more of the following 'configurable' keys: ['thread_id', 'checkpoint_ns', 'checkpoint_id']"
          ]
        }
      ]
    }
  ]
}